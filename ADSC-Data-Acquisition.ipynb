{
 "cells": [
  {
   "cell_type": "markdown",
   "metadata": {},
   "source": [
    "# Data Acquisition"
   ]
  },
  {
   "cell_type": "markdown",
   "metadata": {},
   "source": [
    "### This consist of 3 parts:\n",
    "1. The FourSquare Top 30 Venues to Visit in Chicago\n",
    "2. For each of the Top Site get a list of up restaurants in the surrounding area\n",
    "3. The Chicago Police Department Crime Data for the last Year\n",
    "\n",
    "### Import Libraries\n",
    "\n",
    "Before we get the data and start exploring it, let's download all the dependencies and libraries that we will need."
   ]
  },
  {
   "cell_type": "code",
   "execution_count": 1,
   "metadata": {},
   "outputs": [],
   "source": [
    "import pandas as pd # Import pandas\n",
    "pd.set_option('display.max_columns', None)\n",
    "pd.set_option('display.max_rows', None)\n",
    "\n",
    "import requests # Import Requests\n",
    "\n",
    "from bs4 import BeautifulSoup # Import BeautifulSoup"
   ]
  },
  {
   "cell_type": "code",
   "execution_count": 2,
   "metadata": {},
   "outputs": [
    {
     "name": "stderr",
     "output_type": "stream",
     "text": [
      "<ipython-input-2-3f679cce538e>:4: YAMLLoadWarning: calling yaml.load() without Loader=... is deprecated, as the default Loader is unsafe. Please read https://msg.pyyaml.org/load for full details.\n",
      "  cfg = yaml.load(f)\n"
     ]
    }
   ],
   "source": [
    "import yaml # Yaml is used to store some of the required configurations\n",
    "\n",
    "with open(\"./Data/config.yaml\", \"r\") as f:\n",
    "    cfg = yaml.load(f)\n",
    " \n",
    "search_params = {\n",
    "    'client_id': cfg['client_id'],\n",
    "    'client_secret': cfg['client_secret'],\n",
    "    'intent': 'browse',\n",
    "    'limit': 50,\n",
    "    'v': cfg['version']\n",
    "}"
   ]
  },
  {
   "cell_type": "markdown",
   "metadata": {},
   "source": [
    "## FourSquare Top 30 Venues to Visit in Chicago\n",
    "To get the top venues in a city we can use the FourSquare website directly to request the top sites in Chicago and then use BeautifulSoup to scrape the data we need. Once we have this starting data the other supplemental data we need to complete this dataset can be retrieved from using the FourSquare Venue API."
   ]
  },
  {
   "cell_type": "code",
   "execution_count": 3,
   "metadata": {},
   "outputs": [],
   "source": [
    "# Use the Requests get method to request the top sites in Chicago\n",
    "page = requests.get( \n",
    "    \"https://foursquare.com/explore?mode=url&near=Chicago%2C%20IL%2C%20United%20States&nearGeoId=72057594042815334&q=Top%20Picks\")\n",
    "\n",
    "soup = BeautifulSoup(page.content, 'html.parser') # Convert the HTML response into a BeautifulSoup Object\n",
    "\n",
    "top_venues = soup.find_all('div', class_='venueDetails') # Use the BeautifulSoup find_all method to extract each top site venue details."
   ]
  },
  {
   "cell_type": "markdown",
   "metadata": {},
   "source": [
    "From this HTML the following data will be extracted:\n",
    "\n",
    "* Venue Name\n",
    "* Venue Score\n",
    "* Venue Category\n",
    "* Venue HREF\n",
    "* Venue ID (Extracted from the HREF)"
   ]
  },
  {
   "cell_type": "markdown",
   "metadata": {},
   "source": [
    "### Creating Dataframe for Top Venues\n",
    "\n",
    "The `top_venues` list, a sample of which is shown above, only contains some of the data required. In addition to the attributes extracted directly from the HTML code the following attributes are also required:\n",
    "* Venue Address\n",
    "* Venue Postalcode\n",
    "* Venue City\n",
    "* Venue Latitude\n",
    "* Venue Longitude\n",
    "\n",
    "These attributes will be obtained directly from FourSquare using the `venues` API. The process is as follows:\n",
    "1. Create a new empty Pandas dataframe to hold the data for the Top Sites / Venues\n",
    "1. Extract the available attributes from the HTML code\n",
    "1. For each venue\n",
    "    1. Contruct a URL to interagate the FourSquare Venue API for each top site\n",
    "    1. Using the `venues` API and the URL request the data from FourSquare\n",
    "    1. Get the properly formatted address and the latitude and longitude data from the returned JSON\n",
    "    1. Write the data for each venue to the top venues dataframs"
   ]
  },
  {
   "cell_type": "code",
   "execution_count": 4,
   "metadata": {},
   "outputs": [],
   "source": [
    "# The column names for the top venues dataframe\n",
    "venue_columns = ['id', \n",
    "                 'score', \n",
    "                 'category', \n",
    "                 'name', \n",
    "                 'address',\n",
    "                 'postalcode',\n",
    "                 'city',\n",
    "                 'href', \n",
    "                 'latitude', \n",
    "                 'longitude']\n",
    "\n",
    "# Create the empty top venues dataframe\n",
    "df_top_venues = pd.DataFrame(columns=venue_columns)\n",
    "\n",
    "# For each venue in the BeautifulSoup HTML object\n",
    "for venue in top_venues:\n",
    "    \n",
    "    # Extract the available attributes\n",
    "    venue_name = venue.find(target=\"_blank\").get_text()\n",
    "    venue_score = venue.find(class_=\"venueScore positive\").get_text()\n",
    "    venue_cat = venue.find(class_=\"categoryName\").get_text()\n",
    "    venue_href = venue.find(class_=\"venueName\").h2.a['href']\n",
    "    venue_id = venue_href.split('/')[-1]\n",
    "\n",
    "    if 'promotedTipId' in venue_id: \n",
    "        continue\n",
    "        \n",
    "    # Contruct the FourSquare venue API URL\n",
    "    url = 'https://api.foursquare.com/v2/venues/{}?client_id={}&client_secret={}&v={}'.format(\n",
    "        venue_id, \n",
    "        cfg['client_id'],\n",
    "        cfg['client_secret'],\n",
    "        cfg['version'])\n",
    "    \n",
    "    # Request the venue data\n",
    "    result = requests.get(url).json()\n",
    "        \n",
    "    # Get the properly formatted address and the latitude and longitude\n",
    "    venue_address = result['response']['venue']['location']['address']\n",
    "    venue_postalcode = result['response']['venue']['location']['postalCode']\n",
    "    venue_city = result['response']['venue']['location']['city']\n",
    "    venue_latitude = result['response']['venue']['location']['lat']\n",
    "    venue_longitude = result['response']['venue']['location']['lng']\n",
    "    \n",
    "    # Add the venue to the top venues dataframe\n",
    "    df_top_venues = df_top_venues.append({'id': venue_id,\n",
    "                                          'score': venue_score,\n",
    "                                          'category': venue_cat,\n",
    "                                          'name': venue_name,\n",
    "                                          'address': venue_address,\n",
    "                                          'postalcode': venue_postalcode,\n",
    "                                          'city': venue_city,\n",
    "                                          'href': venue_href,\n",
    "                                          'latitude': venue_latitude,\n",
    "                                          'longitude': venue_longitude}, ignore_index=True)"
   ]
  },
  {
   "cell_type": "code",
   "execution_count": 5,
   "metadata": {},
   "outputs": [
    {
     "data": {
      "text/plain": [
       "(30, 10)"
      ]
     },
     "execution_count": 5,
     "metadata": {},
     "output_type": "execute_result"
    }
   ],
   "source": [
    "df_top_venues.shape # Verify the shape of the top venues dataframe"
   ]
  },
  {
   "cell_type": "code",
   "execution_count": 6,
   "metadata": {},
   "outputs": [
    {
     "data": {
      "text/plain": [
       "id             object\n",
       "score          object\n",
       "category       object\n",
       "name           object\n",
       "address        object\n",
       "postalcode     object\n",
       "city           object\n",
       "href           object\n",
       "latitude      float64\n",
       "longitude     float64\n",
       "dtype: object"
      ]
     },
     "execution_count": 6,
     "metadata": {},
     "output_type": "execute_result"
    }
   ],
   "source": [
    "df_top_venues.dtypes # Verify the dtypes of the top venues dataframe"
   ]
  },
  {
   "cell_type": "code",
   "execution_count": 7,
   "metadata": {},
   "outputs": [
    {
     "data": {
      "text/plain": [
       "count    30.000000\n",
       "mean      9.420000\n",
       "std       0.080516\n",
       "min       9.300000\n",
       "25%       9.400000\n",
       "50%       9.400000\n",
       "75%       9.500000\n",
       "max       9.600000\n",
       "Name: score, dtype: float64"
      ]
     },
     "execution_count": 7,
     "metadata": {},
     "output_type": "execute_result"
    }
   ],
   "source": [
    "df_top_venues['score'] = pd.to_numeric(df_top_venues['score'], errors='coerce').fillna(0) # The score type needs to be converted to float\n",
    "\n",
    "df_top_venues.score.describe() # Describe the score to see if there is nuch variance in the values"
   ]
  },
  {
   "cell_type": "code",
   "execution_count": 8,
   "metadata": {},
   "outputs": [
    {
     "data": {
      "text/html": [
       "<div>\n",
       "<style scoped>\n",
       "    .dataframe tbody tr th:only-of-type {\n",
       "        vertical-align: middle;\n",
       "    }\n",
       "\n",
       "    .dataframe tbody tr th {\n",
       "        vertical-align: top;\n",
       "    }\n",
       "\n",
       "    .dataframe thead th {\n",
       "        text-align: right;\n",
       "    }\n",
       "</style>\n",
       "<table border=\"1\" class=\"dataframe\">\n",
       "  <thead>\n",
       "    <tr style=\"text-align: right;\">\n",
       "      <th></th>\n",
       "      <th>id</th>\n",
       "      <th>score</th>\n",
       "      <th>category</th>\n",
       "      <th>name</th>\n",
       "      <th>address</th>\n",
       "      <th>postalcode</th>\n",
       "      <th>city</th>\n",
       "      <th>href</th>\n",
       "      <th>latitude</th>\n",
       "      <th>longitude</th>\n",
       "    </tr>\n",
       "  </thead>\n",
       "  <tbody>\n",
       "    <tr>\n",
       "      <th>0</th>\n",
       "      <td>42b75880f964a52090251fe3</td>\n",
       "      <td>9.6</td>\n",
       "      <td>Park</td>\n",
       "      <td>Millennium Park</td>\n",
       "      <td>201 E Randolph St</td>\n",
       "      <td>60601</td>\n",
       "      <td>Chicago</td>\n",
       "      <td>/v/millennium-park/42b75880f964a52090251fe3</td>\n",
       "      <td>41.883112</td>\n",
       "      <td>-87.623851</td>\n",
       "    </tr>\n",
       "    <tr>\n",
       "      <th>1</th>\n",
       "      <td>49e9ef74f964a52011661fe3</td>\n",
       "      <td>9.5</td>\n",
       "      <td>Art Museum</td>\n",
       "      <td>The Art Institute of Chicago</td>\n",
       "      <td>111 S Michigan Ave</td>\n",
       "      <td>60603</td>\n",
       "      <td>Chicago</td>\n",
       "      <td>/v/the-art-institute-of-chicago/49e9ef74f964a5...</td>\n",
       "      <td>41.879610</td>\n",
       "      <td>-87.623552</td>\n",
       "    </tr>\n",
       "    <tr>\n",
       "      <th>2</th>\n",
       "      <td>4c47533649fa9521cb1f5e62</td>\n",
       "      <td>9.5</td>\n",
       "      <td>Park</td>\n",
       "      <td>Grant Park</td>\n",
       "      <td>337 E Randolph Dr</td>\n",
       "      <td>60601</td>\n",
       "      <td>Chicago</td>\n",
       "      <td>/v/grant-park/4c47533649fa9521cb1f5e62</td>\n",
       "      <td>41.876626</td>\n",
       "      <td>-87.619263</td>\n",
       "    </tr>\n",
       "    <tr>\n",
       "      <th>3</th>\n",
       "      <td>4b9d15c5f964a520478e36e3</td>\n",
       "      <td>9.5</td>\n",
       "      <td>Waterfront</td>\n",
       "      <td>Chicago Riverwalk</td>\n",
       "      <td>Chicago River</td>\n",
       "      <td>60601</td>\n",
       "      <td>Chicago</td>\n",
       "      <td>/v/chicago-riverwalk/4b9d15c5f964a520478e36e3</td>\n",
       "      <td>41.887280</td>\n",
       "      <td>-87.627217</td>\n",
       "    </tr>\n",
       "    <tr>\n",
       "      <th>4</th>\n",
       "      <td>4b06c066f964a52097ef22e3</td>\n",
       "      <td>9.5</td>\n",
       "      <td>Liquor Store</td>\n",
       "      <td>Binny's Beverage Depot</td>\n",
       "      <td>1720 N Marcey St</td>\n",
       "      <td>60614</td>\n",
       "      <td>Chicago</td>\n",
       "      <td>/v/binnys-beverage-depot/4b06c066f964a52097ef22e3</td>\n",
       "      <td>41.913048</td>\n",
       "      <td>-87.655320</td>\n",
       "    </tr>\n",
       "  </tbody>\n",
       "</table>\n",
       "</div>"
      ],
      "text/plain": [
       "                         id  score      category  \\\n",
       "0  42b75880f964a52090251fe3    9.6          Park   \n",
       "1  49e9ef74f964a52011661fe3    9.5    Art Museum   \n",
       "2  4c47533649fa9521cb1f5e62    9.5          Park   \n",
       "3  4b9d15c5f964a520478e36e3    9.5    Waterfront   \n",
       "4  4b06c066f964a52097ef22e3    9.5  Liquor Store   \n",
       "\n",
       "                           name             address postalcode     city  \\\n",
       "0               Millennium Park   201 E Randolph St      60601  Chicago   \n",
       "1  The Art Institute of Chicago  111 S Michigan Ave      60603  Chicago   \n",
       "2                    Grant Park   337 E Randolph Dr      60601  Chicago   \n",
       "3             Chicago Riverwalk       Chicago River      60601  Chicago   \n",
       "4        Binny's Beverage Depot    1720 N Marcey St      60614  Chicago   \n",
       "\n",
       "                                                href   latitude  longitude  \n",
       "0        /v/millennium-park/42b75880f964a52090251fe3  41.883112 -87.623851  \n",
       "1  /v/the-art-institute-of-chicago/49e9ef74f964a5...  41.879610 -87.623552  \n",
       "2             /v/grant-park/4c47533649fa9521cb1f5e62  41.876626 -87.619263  \n",
       "3      /v/chicago-riverwalk/4b9d15c5f964a520478e36e3  41.887280 -87.627217  \n",
       "4  /v/binnys-beverage-depot/4b06c066f964a52097ef22e3  41.913048 -87.655320  "
      ]
     },
     "execution_count": 8,
     "metadata": {},
     "output_type": "execute_result"
    }
   ],
   "source": [
    "df_top_venues.head() # Review the head of the dataframe to make sure it looks as expected"
   ]
  },
  {
   "cell_type": "code",
   "execution_count": 9,
   "metadata": {},
   "outputs": [],
   "source": [
    "df_top_venues.to_pickle('./Pickles/top_venues.pkl') # Finally write the dataframe to a pickle file for restoring later"
   ]
  },
  {
   "cell_type": "markdown",
   "metadata": {},
   "source": [
    "## FourSquare Restaurent Recommendations Data"
   ]
  },
  {
   "cell_type": "markdown",
   "metadata": {},
   "source": [
    "Using the the list of all venue id values in the Top Sites DataFrame and the FourSquare categoryID that represents all food venues, we now search for restaurants within a 500 meter radius.\n",
    "\n",
    "The requests returns a JSON object which can then be queried for the restaurant details required.From this JSON the following attributes are extraced and added to the Dataframe:\n",
    "\n",
    "* Restaurant ID\n",
    "* Restaurant Category Name\n",
    "* Restaurant Category ID\n",
    "* Restaurant Nest_name\n",
    "* Restaurant Address\n",
    "* Restaurant Postalcode\n",
    "* Restaurant City\n",
    "* Restaurant Latitude\n",
    "* Restaurant Longitude\n",
    "* Venue Name\n",
    "* Venue Latitude\n",
    "* Venue Longitude\n",
    "\n",
    "The only piece of data that is missing is the Score or Rating of the Restaurant. To get this we need to make another FourSquare API query using the id of the Restaurant.\n",
    "\n",
    "Using just the data in this DataFrame we will be able to generate maps displaying the chosen Top List Venue and the best scored surrounding restaurants."
   ]
  },
  {
   "cell_type": "code",
   "execution_count": 10,
   "metadata": {},
   "outputs": [],
   "source": [
    "#The column names for the restaurants dataframe\n",
    "restaurants_columns = ['id',\n",
    "                       'score', \n",
    "                       'category', \n",
    "                       'categoryID', \n",
    "                       'name', \n",
    "                       'address',\n",
    "                       'postalcode',\n",
    "                       'city',\n",
    "                       'latitude',\n",
    "                       'longitude', \n",
    "                       'venue_name', \n",
    "                       'venue_latitude',\n",
    "                       'venue_longitude']\n",
    "\n",
    "# Create the empty top venues dataframe\n",
    "df_restaurant = pd.DataFrame(columns=restaurants_columns)\n",
    "\n",
    "# Create a list of all the top venue latitude and longitude\n",
    "top_venue_lats = df_top_venues['latitude'].values\n",
    "top_venue_lngs = df_top_venues['longitude'].values\n",
    "\n",
    "# Create a list of all the top venue names\n",
    "top_venue_names = df_top_venues['name'].values\n",
    "\n",
    "# Iterate over each of the top venues\n",
    "# The venue name, latitude and longitude are passed to the loop\n",
    "for ven_name, ven_lat, ven_long in zip(top_venue_names, top_venue_lats, top_venue_lngs):\n",
    "    \n",
    "    # Configure additional Search parameters\n",
    "    # This is the FourSquare Category Id for all food venues\n",
    "    categoryId = '4d4b7105d754a06374d81259'\n",
    "    radius = 100\n",
    "    limit = 20\n",
    "    \n",
    "    # Contruct the FourSquare search API URL\n",
    "    url = 'https://api.foursquare.com/v2/venues/search?client_id={}&client_secret={}&ll={},{}&v={}&categoryId={}&radius={}&limit={}'.format(\n",
    "        cfg['client_id'],\n",
    "        cfg['client_secret'],\n",
    "        ven_lat,\n",
    "        ven_long,\n",
    "        cfg['version'],\n",
    "        categoryId,\n",
    "        radius,\n",
    "        limit)\n",
    "    \n",
    "    # Make the search request\n",
    "    results = requests.get(url).json()\n",
    "    \n",
    "    # Want a good selection of Restaurents\n",
    "    # If less than 10 are returned ignore\n",
    "    if len(results['response']['venues']) < 10:\n",
    "        continue\n",
    "        \n",
    "    # Populate the new dataframe with the list of restaurants\n",
    "    # Get the values for each Restaurant from the JSON\n",
    "    for restaurant in results['response']['venues']:\n",
    " \n",
    "        # Sometimes the Venue JSON is missing data. If so ignore and continue\n",
    "        try:\n",
    "            # Get location details\n",
    "            rest_id = restaurant['id']\n",
    "            rest_category = restaurant['categories'][0]['pluralName']\n",
    "            rest_categoryID = restaurant['categories'][0]['id']\n",
    "            rest_name = restaurant['name']\n",
    "            rest_address = restaurant['location']['address']\n",
    "            rest_postalcode = restaurant['location']['postalCode']\n",
    "            rest_city = restaurant['location']['city']\n",
    "            rest_latitude = restaurant['location']['lat']\n",
    "            rest_longitude = restaurant['location']['lng']\n",
    "            \n",
    "            # Contruct the FourSquare venue API URL to get the venues rating / score\n",
    "            rest_url = 'https://api.foursquare.com/v2/venues/{}?client_id={}&client_secret={}&v={}'.format(\n",
    "                rest_id, \n",
    "                cfg['client_id'],\n",
    "                cfg['client_secret'],\n",
    "                cfg['version'])\n",
    "\n",
    "            # Get the restaurant score and href\n",
    "            result = requests.get(rest_url).json()\n",
    "            rest_score = result['response']['venue']['rating']\n",
    "            \n",
    "            # Add the restaurant details to the dataframe\n",
    "            df_restaurant = df_restaurant.append({'id': rest_id,\n",
    "                                                  'score': rest_score,\n",
    "                                                  'category': rest_category,\n",
    "                                                  'categoryID': rest_categoryID,\n",
    "                                                  'name': rest_name,\n",
    "                                                  'address': rest_address,\n",
    "                                                  'postalcode': rest_postalcode,\n",
    "                                                  'city': rest_city,\n",
    "                                                  'latitude': rest_latitude,\n",
    "                                                  'longitude': rest_longitude,\n",
    "                                                  'venue_name': ven_name,\n",
    "                                                  'venue_latitude': ven_lat,\n",
    "                                                  'venue_longitude': ven_long}, ignore_index=True)\n",
    "            \n",
    "        # If there are any issue with a restaurant ignore and continue\n",
    "        except:\n",
    "            continue\n",
    "            "
   ]
  },
  {
   "cell_type": "code",
   "execution_count": 11,
   "metadata": {},
   "outputs": [
    {
     "data": {
      "text/plain": [
       "(91, 13)"
      ]
     },
     "execution_count": 11,
     "metadata": {},
     "output_type": "execute_result"
    }
   ],
   "source": [
    "df_restaurant.shape # Verify the shape of the restaurants dataframe"
   ]
  },
  {
   "cell_type": "code",
   "execution_count": 12,
   "metadata": {},
   "outputs": [
    {
     "data": {
      "text/plain": [
       "id                  object\n",
       "score              float64\n",
       "category            object\n",
       "categoryID          object\n",
       "name                object\n",
       "address             object\n",
       "postalcode          object\n",
       "city                object\n",
       "latitude           float64\n",
       "longitude          float64\n",
       "venue_name          object\n",
       "venue_latitude     float64\n",
       "venue_longitude    float64\n",
       "dtype: object"
      ]
     },
     "execution_count": 12,
     "metadata": {},
     "output_type": "execute_result"
    }
   ],
   "source": [
    "df_restaurant.dtypes # Verify the dtypes of the restaurants dataframe"
   ]
  },
  {
   "cell_type": "code",
   "execution_count": 13,
   "metadata": {},
   "outputs": [
    {
     "data": {
      "text/html": [
       "<div>\n",
       "<style scoped>\n",
       "    .dataframe tbody tr th:only-of-type {\n",
       "        vertical-align: middle;\n",
       "    }\n",
       "\n",
       "    .dataframe tbody tr th {\n",
       "        vertical-align: top;\n",
       "    }\n",
       "\n",
       "    .dataframe thead th {\n",
       "        text-align: right;\n",
       "    }\n",
       "</style>\n",
       "<table border=\"1\" class=\"dataframe\">\n",
       "  <thead>\n",
       "    <tr style=\"text-align: right;\">\n",
       "      <th></th>\n",
       "      <th>id</th>\n",
       "      <th>score</th>\n",
       "      <th>category</th>\n",
       "      <th>categoryID</th>\n",
       "      <th>name</th>\n",
       "      <th>address</th>\n",
       "      <th>postalcode</th>\n",
       "      <th>city</th>\n",
       "      <th>latitude</th>\n",
       "      <th>longitude</th>\n",
       "      <th>venue_name</th>\n",
       "      <th>venue_latitude</th>\n",
       "      <th>venue_longitude</th>\n",
       "    </tr>\n",
       "  </thead>\n",
       "  <tbody>\n",
       "    <tr>\n",
       "      <th>0</th>\n",
       "      <td>4582cc9ef964a520843f1fe3</td>\n",
       "      <td>6.2</td>\n",
       "      <td>American Restaurants</td>\n",
       "      <td>4bf58dd8d48988d14e941735</td>\n",
       "      <td>Park Grill</td>\n",
       "      <td>11 N Michigan Ave</td>\n",
       "      <td>60602</td>\n",
       "      <td>Chicago</td>\n",
       "      <td>41.882732</td>\n",
       "      <td>-87.623847</td>\n",
       "      <td>Millennium Park</td>\n",
       "      <td>41.883112</td>\n",
       "      <td>-87.623851</td>\n",
       "    </tr>\n",
       "    <tr>\n",
       "      <th>1</th>\n",
       "      <td>551192b1498e8695352d33e6</td>\n",
       "      <td>8.1</td>\n",
       "      <td>American Restaurants</td>\n",
       "      <td>4bf58dd8d48988d14e941735</td>\n",
       "      <td>Remington's</td>\n",
       "      <td>20 N Michigan Ave</td>\n",
       "      <td>60602</td>\n",
       "      <td>Chicago</td>\n",
       "      <td>41.882628</td>\n",
       "      <td>-87.624608</td>\n",
       "      <td>Millennium Park</td>\n",
       "      <td>41.883112</td>\n",
       "      <td>-87.623851</td>\n",
       "    </tr>\n",
       "    <tr>\n",
       "      <th>2</th>\n",
       "      <td>4bf98a56508c0f4793663f31</td>\n",
       "      <td>6.7</td>\n",
       "      <td>American Restaurants</td>\n",
       "      <td>4bf58dd8d48988d14e941735</td>\n",
       "      <td>The Plaza at Park Grill</td>\n",
       "      <td>11 N Michigan Ave</td>\n",
       "      <td>60602</td>\n",
       "      <td>Chicago</td>\n",
       "      <td>41.882668</td>\n",
       "      <td>-87.623769</td>\n",
       "      <td>Millennium Park</td>\n",
       "      <td>41.883112</td>\n",
       "      <td>-87.623851</td>\n",
       "    </tr>\n",
       "    <tr>\n",
       "      <th>3</th>\n",
       "      <td>54060b96498ed2702c0632f7</td>\n",
       "      <td>8.3</td>\n",
       "      <td>Coffee Shops</td>\n",
       "      <td>4bf58dd8d48988d1e0931735</td>\n",
       "      <td>Peet's Coffee &amp; Tea</td>\n",
       "      <td>20 North Michigan Ave.,</td>\n",
       "      <td>60602</td>\n",
       "      <td>Chicago</td>\n",
       "      <td>41.882467</td>\n",
       "      <td>-87.624686</td>\n",
       "      <td>Millennium Park</td>\n",
       "      <td>41.883112</td>\n",
       "      <td>-87.623851</td>\n",
       "    </tr>\n",
       "    <tr>\n",
       "      <th>4</th>\n",
       "      <td>4e73881c922e0a374024c7b8</td>\n",
       "      <td>7.7</td>\n",
       "      <td>Coffee Shops</td>\n",
       "      <td>4bf58dd8d48988d1e0931735</td>\n",
       "      <td>Starbucks</td>\n",
       "      <td>8 N Michigan Ave</td>\n",
       "      <td>60602</td>\n",
       "      <td>Chicago</td>\n",
       "      <td>41.882478</td>\n",
       "      <td>-87.624701</td>\n",
       "      <td>Millennium Park</td>\n",
       "      <td>41.883112</td>\n",
       "      <td>-87.623851</td>\n",
       "    </tr>\n",
       "  </tbody>\n",
       "</table>\n",
       "</div>"
      ],
      "text/plain": [
       "                         id  score              category  \\\n",
       "0  4582cc9ef964a520843f1fe3    6.2  American Restaurants   \n",
       "1  551192b1498e8695352d33e6    8.1  American Restaurants   \n",
       "2  4bf98a56508c0f4793663f31    6.7  American Restaurants   \n",
       "3  54060b96498ed2702c0632f7    8.3          Coffee Shops   \n",
       "4  4e73881c922e0a374024c7b8    7.7          Coffee Shops   \n",
       "\n",
       "                 categoryID                     name                  address  \\\n",
       "0  4bf58dd8d48988d14e941735               Park Grill        11 N Michigan Ave   \n",
       "1  4bf58dd8d48988d14e941735              Remington's        20 N Michigan Ave   \n",
       "2  4bf58dd8d48988d14e941735  The Plaza at Park Grill        11 N Michigan Ave   \n",
       "3  4bf58dd8d48988d1e0931735      Peet's Coffee & Tea  20 North Michigan Ave.,   \n",
       "4  4bf58dd8d48988d1e0931735                Starbucks         8 N Michigan Ave   \n",
       "\n",
       "  postalcode     city   latitude  longitude       venue_name  venue_latitude  \\\n",
       "0      60602  Chicago  41.882732 -87.623847  Millennium Park       41.883112   \n",
       "1      60602  Chicago  41.882628 -87.624608  Millennium Park       41.883112   \n",
       "2      60602  Chicago  41.882668 -87.623769  Millennium Park       41.883112   \n",
       "3      60602  Chicago  41.882467 -87.624686  Millennium Park       41.883112   \n",
       "4      60602  Chicago  41.882478 -87.624701  Millennium Park       41.883112   \n",
       "\n",
       "   venue_longitude  \n",
       "0       -87.623851  \n",
       "1       -87.623851  \n",
       "2       -87.623851  \n",
       "3       -87.623851  \n",
       "4       -87.623851  "
      ]
     },
     "execution_count": 13,
     "metadata": {},
     "output_type": "execute_result"
    }
   ],
   "source": [
    "df_restaurant.head() # Review the head of the dataframe to make sure it looks as expected"
   ]
  },
  {
   "cell_type": "code",
   "execution_count": 14,
   "metadata": {},
   "outputs": [
    {
     "data": {
      "text/plain": [
       "count    91.000000\n",
       "mean      7.679121\n",
       "std       0.989895\n",
       "min       5.500000\n",
       "25%       6.750000\n",
       "50%       7.700000\n",
       "75%       8.400000\n",
       "max       9.500000\n",
       "Name: score, dtype: float64"
      ]
     },
     "execution_count": 14,
     "metadata": {},
     "output_type": "execute_result"
    }
   ],
   "source": [
    "df_restaurant.score.describe() # Describe the score to see if there is nuch variance in the values"
   ]
  },
  {
   "cell_type": "code",
   "execution_count": 15,
   "metadata": {},
   "outputs": [
    {
     "data": {
      "text/plain": [
       "9"
      ]
     },
     "execution_count": 15,
     "metadata": {},
     "output_type": "execute_result"
    }
   ],
   "source": [
    "df_restaurant.venue_name.nunique() # How many of the top 30 sites / venues had > 10 restaurants nearby"
   ]
  },
  {
   "cell_type": "code",
   "execution_count": 16,
   "metadata": {},
   "outputs": [
    {
     "data": {
      "text/plain": [
       "38"
      ]
     },
     "execution_count": 16,
     "metadata": {},
     "output_type": "execute_result"
    }
   ],
   "source": [
    "df_restaurant.category.nunique() # How many unique restaurant categories are there"
   ]
  },
  {
   "cell_type": "code",
   "execution_count": 17,
   "metadata": {},
   "outputs": [
    {
     "data": {
      "text/plain": [
       "79"
      ]
     },
     "execution_count": 17,
     "metadata": {},
     "output_type": "execute_result"
    }
   ],
   "source": [
    "df_restaurant.name.nunique() # How many unique restaurants are there"
   ]
  },
  {
   "cell_type": "code",
   "execution_count": 18,
   "metadata": {},
   "outputs": [
    {
     "data": {
      "text/plain": [
       "category\n",
       "American Restaurants        9\n",
       "Sandwich Places             8\n",
       "Chinese Restaurants         7\n",
       "Coffee Shops                7\n",
       "Cafés                       6\n",
       "Seafood Restaurants         4\n",
       "Bakeries                    4\n",
       "Italian Restaurants         4\n",
       "New American Restaurants    3\n",
       "Burger Joints               3\n",
       "Name: name, dtype: int64"
      ]
     },
     "execution_count": 18,
     "metadata": {},
     "output_type": "execute_result"
    }
   ],
   "source": [
    "df_restaurant.groupby('category')['name'].count().sort_values(ascending=False)[:10] # What arethe top 10 most frequently occuring restaurant types"
   ]
  },
  {
   "cell_type": "code",
   "execution_count": 19,
   "metadata": {},
   "outputs": [
    {
     "data": {
      "text/plain": [
       "category\n",
       "Delis / Bodegas                     9.50\n",
       "Mediterranean Restaurants           9.20\n",
       "Bars                                9.00\n",
       "Latin American Restaurants          9.00\n",
       "Gourmet Shops                       8.85\n",
       "New American Restaurants            8.80\n",
       "Ramen Restaurants                   8.70\n",
       "Southern / Soul Food Restaurants    8.60\n",
       "Breweries                           8.50\n",
       "Seafood Restaurants                 8.40\n",
       "Name: score, dtype: float64"
      ]
     },
     "execution_count": 19,
     "metadata": {},
     "output_type": "execute_result"
    }
   ],
   "source": [
    "df_restaurant.groupby('category')['score'].mean().sort_values(ascending=False)[:10] # Which restaurants have to highest average score"
   ]
  },
  {
   "cell_type": "code",
   "execution_count": 20,
   "metadata": {},
   "outputs": [],
   "source": [
    "df_restaurant.to_pickle('./Pickles/restaurants.pkl') # Finally write the dataframe to a pickle file for restoring later"
   ]
  },
  {
   "cell_type": "markdown",
   "metadata": {},
   "source": [
    "## Chicago Crime DataSet"
   ]
  },
  {
   "cell_type": "markdown",
   "metadata": {},
   "source": [
    "This dataset reflects reported incidents of crime (with the exception of murders where data exists for each victim) that occurred in the City of Chicago in the last year, minus the most recent seven days. Data is extracted from the Chicago Police Department's CLEAR (Citizen Law Enforcement Analysis and Reporting) system. In order to protect the privacy of crime victims, addresses are shown at the block level only and specific locations are not identified.\n",
    "\n",
    "| Column Name   | Type          | Description                                            | \n",
    "| :------------ | :------------ | :----------------------------------------------------- | \n",
    "| Case Number    | Plain Text    | The Chicago Police Department RD Number (Records Division Number), which is unique to the incident. | \n",
    "| Date | Date & Time   | Date when the incident occurred. this is sometimes a best estimate. |\n",
    "| Block\t        | Plain Text    | The partially redacted address where the incident occurred, placing it on the same block as the actual address. |\n",
    "| IUCR\t        | Plain Text    | The Illinois Unifrom Crime Reporting code. This is directly linked to the Primary Type and Description. See the list of IUCR codes at https://data.cityofchicago.org/d/c7ck-438e. |\n",
    "| Primary Type   | Plain Text    | The primary description of the IUCR code. |\n",
    "| Description\t| Plain Text    | The secondary description of the IUCR code, a subcategory of the primary description. |\n",
    "| Location Description | Plain Text | Description of the location where the incident occurred. |\n",
    "| Arrest        | Plain Text    | Indicates whether an arrest was made. |\n",
    "| Domestic      | Plain Text    | Indicates whether the incident was domestic-related as defined by the Illinois Domestic Violence Act. |\n",
    "| Beat          | Plain Text    | Indicates the beat where the incident occurred. A beat is the smallest police geographic area – each beat has a dedicated police beat car. Three to five beats make up a police sector, and three sectors make up a police district. The Chicago Police Department has 22 police districts. See the beats at https://data.cityofchicago.org/d/aerh-rz74. |\n",
    "| Ward\t        | Number        | The ward (City Council district) where the incident occurred. See the wards at https://data.cityofchicago.org/d/sp34-6z76. |\n",
    "| FBI Code        | Plain Text    | Indicates the crime classification as outlined in the FBI's National Incident-Based Reporting System (NIBRS). See the Chicago Police Department listing of these classifications at http://gis.chicagopolice.org/clearmap_crime_sums/crime_types.html. |\n",
    "| X Coordinate\t| Plain Text    | The x coordinate of the location where the incident occurred in State Plane Illinois East NAD 1983 projection. This location is shifted from the actual location for partial redaction but falls on the same block. |\n",
    "| Y Coordinate\t| Plain Text    | The y coordinate of the location where the incident occurred in State Plane Illinois East NAD 1983 projection. This location is shifted from the actual location for partial redaction but falls on the same block. |\n",
    "| Latitude\t    | Number        | The latitude of the location where the incident occurred. This location is shifted from the actual location for partial redaction but falls on the same block. |\n",
    "| Longitude\t    | Number        | The longitude of the location where the incident occurred. This location is shifted from the actual location for partial redaction but falls on the same block. |\n",
    "| Location\t    | Location      | The location where the incident occurred in a format that allows for creation of maps and other geographic operations on this data portal. This location is shifted from the actual location for partial redaction but falls on the same block. |\n",
    "\t\n"
   ]
  },
  {
   "cell_type": "markdown",
   "metadata": {},
   "source": [
    "### Import the 2019 DataSet\n",
    "\n",
    "The full dataset, 2001 to 2019 contains over 7.03M rows. This makes processing the dataset difficult and time consuming. Only the 2019 data, 242720 records, will be used. In addition, the following clean-up steps are required:\n",
    "\n",
    "Not all of the columns are required. The following columns are removed:\n",
    "* IUCR\n",
    "* ARREST\n",
    "* DOMESTIC\n",
    "* BEAT\n",
    "* WARD\n",
    "* FBI CD\n",
    "* X COORDINATE\n",
    "* Y COORDINATE\n",
    "* LOCATION"
   ]
  },
  {
   "cell_type": "code",
   "execution_count": 33,
   "metadata": {},
   "outputs": [],
   "source": [
    "# These are the columns that we want to keep. Others will not be imported.\n",
    "crime_keep_columns = ['Case Number',\n",
    "                      'Date',\n",
    "                      'Block', \n",
    "                      'Primary Type',\n",
    "                      'Ward',\n",
    "                      'Latitude',\n",
    "                      'Longitude']"
   ]
  },
  {
   "cell_type": "code",
   "execution_count": 29,
   "metadata": {},
   "outputs": [
    {
     "name": "stdout",
     "output_type": "stream",
     "text": [
      "--2019-12-18 15:47:27--  https://data.cityofchicago.org/api/views/w98m-zvie/rows.csv?accessType=DOWNLOAD\n",
      "Loaded CA certificate '/etc/ssl/certs/ca-certificates.crt'\n",
      "Resolving data.cityofchicago.org (data.cityofchicago.org)... 52.206.68.26, 52.206.140.205, 52.206.140.199\n",
      "Connecting to data.cityofchicago.org (data.cityofchicago.org)|52.206.68.26|:443... connected.\n",
      "HTTP request sent, awaiting response... 200 OK\n",
      "Length: unspecified [text/csv]\n",
      "Saving to: ‘./Data/crimes.csv’\n",
      "\n",
      "./Data/crimes.csv       [            <=>     ]  55.16M   552KB/s    in 1m 46s  \n",
      "\n",
      "2019-12-18 15:49:15 (533 KB/s) - ‘./Data/crimes.csv’ saved [57843705]\n",
      "\n"
     ]
    }
   ],
   "source": [
    "# Download csv\n",
    "!wget -O './Data/crimes.csv' https://data.cityofchicago.org/api/views/w98m-zvie/rows.csv?accessType=DOWNLOAD"
   ]
  },
  {
   "cell_type": "code",
   "execution_count": 34,
   "metadata": {},
   "outputs": [],
   "source": [
    "df = pd.read_csv('./Data/crimes.csv',\n",
    "                 usecols=crime_keep_columns) # Read cvs download into datafram"
   ]
  },
  {
   "cell_type": "code",
   "execution_count": null,
   "metadata": {},
   "outputs": [],
   "source": []
  }
 ],
 "metadata": {
  "kernelspec": {
   "display_name": "Python 3",
   "language": "python",
   "name": "python3"
  },
  "language_info": {
   "codemirror_mode": {
    "name": "ipython",
    "version": 3
   },
   "file_extension": ".py",
   "mimetype": "text/x-python",
   "name": "python",
   "nbconvert_exporter": "python",
   "pygments_lexer": "ipython3",
   "version": "3.8.0"
  }
 },
 "nbformat": 4,
 "nbformat_minor": 4
}

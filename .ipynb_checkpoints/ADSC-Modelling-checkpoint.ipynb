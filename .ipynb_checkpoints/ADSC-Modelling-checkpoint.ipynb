{
 "cells": [
  {
   "cell_type": "markdown",
   "metadata": {},
   "source": [
    "# Model Creation and Evaluation\n",
    "\n",
    "In this section multiple models will be created and evaluated before a final model is chosen and evaluated.\n",
    "\n",
    "## Import Libraries\n",
    "\n",
    "As always, we start by importing the required libraries"
   ]
  },
  {
   "cell_type": "code",
   "execution_count": 2,
   "metadata": {},
   "outputs": [],
   "source": [
    "# Import Pandas\n",
    "import pandas as pd\n",
    "\n",
    "# Import Numpy\n",
    "import numpy as np\n",
    "\n",
    "# All the SciKit Learn Libraries Required\n",
    "from sklearn import preprocessing\n",
    "from sklearn.model_selection import train_test_split\n",
    "from sklearn.neighbors import KNeighborsClassifier\n",
    "from sklearn.naive_bayes import BernoulliNB\n",
    "from sklearn.ensemble import RandomForestClassifier\n",
    "from sklearn import metrics\n",
    "from sklearn.model_selection import KFold, cross_val_score\n",
    "\n",
    "# Decision Tree\n",
    "from datetime import datetime\n",
    "from sklearn.tree import DecisionTreeClassifier\n",
    "\n",
    "# Small Function to do X-Fold Cross Validation\n",
    "def cross_validate(model, n_splits = 10):\n",
    "    \n",
    "    k_fold = KFold(n_splits = n_splits)\n",
    "    scores = [model.fit(X[train], y[train]).score(X[test], y[test]) for train, test in k_fold.split(X)]\n",
    "    \n",
    "    scores = np.percentile(scores, [40, 50, 60])\n",
    "    return scores"
   ]
  },
  {
   "cell_type": "code",
   "execution_count": 3,
   "metadata": {},
   "outputs": [],
   "source": [
    "# Use the inline backend to generate the plots within the browser\n",
    "%matplotlib inline \n",
    "\n",
    "import matplotlib as mpl\n",
    "import matplotlib.pyplot as plt\n",
    "\n",
    "import seaborn as sns\n",
    "sns.set_style(\"darkgrid\")\n",
    "\n",
    "font = {'size'   : 12}\n",
    "mpl.rc('font', **font)"
   ]
  },
  {
   "cell_type": "markdown",
   "metadata": {},
   "source": [
    "## Import Dataframes from Pickle files\n",
    "\n",
    "We load in the exported pickle files of the dataframes created in the Data Acquition Section."
   ]
  },
  {
   "cell_type": "code",
   "execution_count": 4,
   "metadata": {},
   "outputs": [],
   "source": [
    "# Import the Pickle of the Crimes DataFrame\n",
    "\n",
    "df_crimes = pd.read_pickle('./Pickles/crimes.pkl')\n",
    "df_crimes.drop('index', inplace=True, axis=1)\n",
    "\n",
    "# Import the Pickle of the Top Venues DataFrame\n",
    "df_topvnues = pd.read_pickle('./Pickles/top_venues.pkl')\n",
    "\n",
    "# Import the Pickle of the Restaurants DataFrame\n",
    "df_rest = pd.read_pickle('./Pickles/restaurants.pkl')"
   ]
  },
  {
   "cell_type": "markdown",
   "metadata": {},
   "source": [
    "# Data Preparation for Modelling\n",
    "`\n",
    "Before we start modelling we need to prepare the data frame to include only mumerical data and by removing unneeded columns.\n",
    "\n",
    "Rather than removing colums from `df_crimes` a new `df_features` DataFrame will be created with just the required columns. This `df_features` DataFrame will then be processed to remove Categorical Data Types and replace them with One Hot encoding. Finally the Dependant Variables will be Normalised."
   ]
  },
  {
   "cell_type": "code",
   "execution_count": 5,
   "metadata": {},
   "outputs": [],
   "source": [
    "# Start by copying the Latitude and Longitude to the new DataFrame\n",
    "\n",
    "df_features = df_crimes[['latitude', 'longitude']]\n",
    "\n",
    "# Next and One Hot Encoding of the hour, day and month variables\n",
    "\n",
    "df_features = df_features.join(pd.get_dummies(df_crimes.hour, prefix='hour'))\n",
    "df_features = df_features.join(pd.get_dummies(df_crimes.day_name))\n",
    "df_features = df_features.join(pd.get_dummies(df_crimes.month_name))\n",
    "\n",
    "# Finally add the ward & crimes column, copied from the original Primary Description column\n",
    "\n",
    "df_features['ward'] = df_crimes[['ward']]\n",
    "df_features['crimes'] = df_crimes[['primary_type']]"
   ]
  },
  {
   "cell_type": "code",
   "execution_count": 6,
   "metadata": {},
   "outputs": [
    {
     "data": {
      "text/html": [
       "<div>\n",
       "<style scoped>\n",
       "    .dataframe tbody tr th:only-of-type {\n",
       "        vertical-align: middle;\n",
       "    }\n",
       "\n",
       "    .dataframe tbody tr th {\n",
       "        vertical-align: top;\n",
       "    }\n",
       "\n",
       "    .dataframe thead th {\n",
       "        text-align: right;\n",
       "    }\n",
       "</style>\n",
       "<table border=\"1\" class=\"dataframe\">\n",
       "  <thead>\n",
       "    <tr style=\"text-align: right;\">\n",
       "      <th></th>\n",
       "      <th>latitude</th>\n",
       "      <th>longitude</th>\n",
       "      <th>hour_0</th>\n",
       "      <th>hour_1</th>\n",
       "      <th>hour_2</th>\n",
       "      <th>hour_3</th>\n",
       "      <th>hour_4</th>\n",
       "      <th>hour_5</th>\n",
       "      <th>hour_6</th>\n",
       "      <th>hour_7</th>\n",
       "      <th>...</th>\n",
       "      <th>January</th>\n",
       "      <th>July</th>\n",
       "      <th>June</th>\n",
       "      <th>March</th>\n",
       "      <th>May</th>\n",
       "      <th>November</th>\n",
       "      <th>October</th>\n",
       "      <th>September</th>\n",
       "      <th>ward</th>\n",
       "      <th>crimes</th>\n",
       "    </tr>\n",
       "  </thead>\n",
       "  <tbody>\n",
       "    <tr>\n",
       "      <th>0</th>\n",
       "      <td>41.830697</td>\n",
       "      <td>-87.614477</td>\n",
       "      <td>0</td>\n",
       "      <td>0</td>\n",
       "      <td>0</td>\n",
       "      <td>0</td>\n",
       "      <td>0</td>\n",
       "      <td>0</td>\n",
       "      <td>0</td>\n",
       "      <td>1</td>\n",
       "      <td>...</td>\n",
       "      <td>0</td>\n",
       "      <td>0</td>\n",
       "      <td>0</td>\n",
       "      <td>0</td>\n",
       "      <td>0</td>\n",
       "      <td>0</td>\n",
       "      <td>0</td>\n",
       "      <td>0</td>\n",
       "      <td>4.0</td>\n",
       "      <td>OTHER OFFENSE</td>\n",
       "    </tr>\n",
       "    <tr>\n",
       "      <th>1</th>\n",
       "      <td>41.873334</td>\n",
       "      <td>-87.662844</td>\n",
       "      <td>0</td>\n",
       "      <td>0</td>\n",
       "      <td>0</td>\n",
       "      <td>0</td>\n",
       "      <td>0</td>\n",
       "      <td>0</td>\n",
       "      <td>0</td>\n",
       "      <td>0</td>\n",
       "      <td>...</td>\n",
       "      <td>0</td>\n",
       "      <td>0</td>\n",
       "      <td>0</td>\n",
       "      <td>0</td>\n",
       "      <td>0</td>\n",
       "      <td>0</td>\n",
       "      <td>0</td>\n",
       "      <td>0</td>\n",
       "      <td>28.0</td>\n",
       "      <td>ROBBERY</td>\n",
       "    </tr>\n",
       "    <tr>\n",
       "      <th>2</th>\n",
       "      <td>41.934946</td>\n",
       "      <td>-87.663647</td>\n",
       "      <td>0</td>\n",
       "      <td>0</td>\n",
       "      <td>0</td>\n",
       "      <td>0</td>\n",
       "      <td>0</td>\n",
       "      <td>0</td>\n",
       "      <td>0</td>\n",
       "      <td>0</td>\n",
       "      <td>...</td>\n",
       "      <td>0</td>\n",
       "      <td>0</td>\n",
       "      <td>0</td>\n",
       "      <td>0</td>\n",
       "      <td>0</td>\n",
       "      <td>0</td>\n",
       "      <td>0</td>\n",
       "      <td>0</td>\n",
       "      <td>32.0</td>\n",
       "      <td>THEFT</td>\n",
       "    </tr>\n",
       "    <tr>\n",
       "      <th>3</th>\n",
       "      <td>41.886013</td>\n",
       "      <td>-87.629505</td>\n",
       "      <td>0</td>\n",
       "      <td>0</td>\n",
       "      <td>0</td>\n",
       "      <td>0</td>\n",
       "      <td>0</td>\n",
       "      <td>0</td>\n",
       "      <td>0</td>\n",
       "      <td>0</td>\n",
       "      <td>...</td>\n",
       "      <td>0</td>\n",
       "      <td>0</td>\n",
       "      <td>0</td>\n",
       "      <td>0</td>\n",
       "      <td>0</td>\n",
       "      <td>0</td>\n",
       "      <td>0</td>\n",
       "      <td>0</td>\n",
       "      <td>42.0</td>\n",
       "      <td>CRIM SEXUAL ASSAULT</td>\n",
       "    </tr>\n",
       "    <tr>\n",
       "      <th>4</th>\n",
       "      <td>41.830697</td>\n",
       "      <td>-87.614477</td>\n",
       "      <td>0</td>\n",
       "      <td>0</td>\n",
       "      <td>0</td>\n",
       "      <td>0</td>\n",
       "      <td>0</td>\n",
       "      <td>0</td>\n",
       "      <td>0</td>\n",
       "      <td>0</td>\n",
       "      <td>...</td>\n",
       "      <td>0</td>\n",
       "      <td>0</td>\n",
       "      <td>0</td>\n",
       "      <td>0</td>\n",
       "      <td>0</td>\n",
       "      <td>0</td>\n",
       "      <td>0</td>\n",
       "      <td>0</td>\n",
       "      <td>4.0</td>\n",
       "      <td>ASSAULT</td>\n",
       "    </tr>\n",
       "  </tbody>\n",
       "</table>\n",
       "<p>5 rows × 47 columns</p>\n",
       "</div>"
      ],
      "text/plain": [
       "    latitude  longitude  hour_0  hour_1  hour_2  hour_3  hour_4  hour_5  \\\n",
       "0  41.830697 -87.614477       0       0       0       0       0       0   \n",
       "1  41.873334 -87.662844       0       0       0       0       0       0   \n",
       "2  41.934946 -87.663647       0       0       0       0       0       0   \n",
       "3  41.886013 -87.629505       0       0       0       0       0       0   \n",
       "4  41.830697 -87.614477       0       0       0       0       0       0   \n",
       "\n",
       "   hour_6  hour_7  ...  January  July  June  March  May  November  October  \\\n",
       "0       0       1  ...        0     0     0      0    0         0        0   \n",
       "1       0       0  ...        0     0     0      0    0         0        0   \n",
       "2       0       0  ...        0     0     0      0    0         0        0   \n",
       "3       0       0  ...        0     0     0      0    0         0        0   \n",
       "4       0       0  ...        0     0     0      0    0         0        0   \n",
       "\n",
       "   September  ward               crimes  \n",
       "0          0   4.0        OTHER OFFENSE  \n",
       "1          0  28.0              ROBBERY  \n",
       "2          0  32.0                THEFT  \n",
       "3          0  42.0  CRIM SEXUAL ASSAULT  \n",
       "4          0   4.0              ASSAULT  \n",
       "\n",
       "[5 rows x 47 columns]"
      ]
     },
     "execution_count": 6,
     "metadata": {},
     "output_type": "execute_result"
    }
   ],
   "source": [
    "df_features.head()"
   ]
  },
  {
   "cell_type": "markdown",
   "metadata": {},
   "source": [
    "There are a couple of further small changes to be made:\n",
    " - Create a smaller DataFrame of only the top two crimes\n",
    " - Create the X, dependant variables, DataFrames by dropping the Crimes column\n",
    " - Create the y, independant variable, \n",
    " - Normailse the X Data"
   ]
  },
  {
   "cell_type": "code",
   "execution_count": 7,
   "metadata": {},
   "outputs": [],
   "source": [
    "# Create a list of the 2 most commonly occuring crimes\n",
    "\n",
    "top_two_crimes = df_features[['crimes', 'ward']].groupby(['crimes']).count().sort_values('ward', ascending=False)[:2].axes[0].tolist()\n",
    "\n",
    "# Create a smaller DataFrame of only the top two crimes\n",
    "\n",
    "df_features_2 = df_features[df_features['crimes'].isin(top_two_crimes)].copy()"
   ]
  },
  {
   "cell_type": "code",
   "execution_count": 8,
   "metadata": {},
   "outputs": [],
   "source": [
    "X_2 = df_features_2.copy()\n",
    "y_2 = X_2.crimes.values\n",
    "\n",
    "X_2.drop('crimes', axis=1, inplace=True)\n",
    "X_2 = preprocessing.StandardScaler().fit(X_2).transform(X_2)"
   ]
  },
  {
   "cell_type": "code",
   "execution_count": 9,
   "metadata": {},
   "outputs": [],
   "source": [
    "# Set X = X_2\n",
    "X = X_2\n",
    "y = y_2"
   ]
  },
  {
   "cell_type": "markdown",
   "metadata": {},
   "source": [
    "### K Nearest Neighbor(KNN)\n",
    "Find the best k to build the model with the best accuracy."
   ]
  },
  {
   "cell_type": "code",
   "execution_count": 11,
   "metadata": {},
   "outputs": [
    {
     "name": "stdout",
     "output_type": "stream",
     "text": [
      "Neighbours:  8   2019-12-19 14:46:51.724193\n",
      "1\n",
      "Neighbours:  9   2019-12-19 15:13:54.781212\n",
      "1\n",
      "Neighbours:  10   2019-12-19 15:31:58.474028\n",
      "1\n",
      "Neighbours:  11   2019-12-19 15:57:03.100819\n",
      "1\n",
      "Neighbours:  12   2019-12-19 16:20:51.472344\n",
      "1\n"
     ]
    },
    {
     "data": {
      "image/png": "[encoded data removed]",
      "text/plain": [
       "<Figure size 432x288 with 1 Axes>"
      ]
     },
     "metadata": {},
     "output_type": "display_data"
    }
   ],
   "source": [
    "# Number of neighbours\n",
    "neighs = range(8, 13)\n",
    "\n",
    "# Store the scores\n",
    "scores = np.zeros((len(neighs), 3))\n",
    "\n",
    "# Iterate to find the best model\n",
    "for idx, neigh in enumerate(neighs):\n",
    "    print('Neighbours: ', neigh, ' ', str(datetime.now()))\n",
    "    model = KNeighborsClassifier(n_neighbors = neigh)\n",
    "    scores[idx, : ] = cross_validate(model, n_splits = 10)\n",
    "    \n",
    "\n",
    "# Plot the results\n",
    "plt.plot(neighs, scores[ : , 1], 'b')\n",
    "plt.fill_between(neighs, scores[ : , 0], scores[:, 2], alpha = 0.1)\n",
    "plt.legend(('Median', '(40, 60) percentile'))\n",
    "plt.ylabel('Accuracy')\n",
    "plt.xlabel('Number of Neighbors')\n",
    "plt.tight_layout()\n",
    "plt.show()"
   ]
  },
  {
   "cell_type": "markdown",
   "metadata": {},
   "source": [
    "K = 11 gives the best results "
   ]
  },
  {
   "cell_type": "code",
   "execution_count": 12,
   "metadata": {},
   "outputs": [],
   "source": [
    "KNN_model = KNeighborsClassifier(n_neighbors = 11).fit(X, y)"
   ]
  },
  {
   "cell_type": "markdown",
   "metadata": {},
   "source": [
    "## Decision Tree"
   ]
  },
  {
   "cell_type": "code",
   "execution_count": 15,
   "metadata": {},
   "outputs": [
    {
     "name": "stdout",
     "output_type": "stream",
     "text": [
      "Depth:  6   2019-12-19 21:19:48.138081\n",
      "Depth:  7   2019-12-19 21:19:55.593972\n",
      "Depth:  8   2019-12-19 21:20:04.044722\n",
      "Depth:  9   2019-12-19 21:20:13.131638\n",
      "Depth:  10   2019-12-19 21:20:21.405019\n",
      "Depth:  11   2019-12-19 21:20:28.505880\n",
      "Depth:  12   2019-12-19 21:20:36.007535\n",
      "Depth:  13   2019-12-19 21:20:43.852026\n",
      "Depth:  14   2019-12-19 21:20:52.203263\n"
     ]
    },
    {
     "data": {
      "image/png": "[encoded data removed]",
      "text/plain": [
       "<Figure size 432x288 with 1 Axes>"
      ]
     },
     "metadata": {},
     "output_type": "display_data"
    }
   ],
   "source": [
    "# Decision Tree\n",
    "from datetime import datetime\n",
    "from sklearn.tree import DecisionTreeClassifier\n",
    "\n",
    "# Depth of the Secision Trees\n",
    "depths = range(6, 15)\n",
    "\n",
    "# Store the scores\n",
    "scores = np.zeros((len(depths), 3))\n",
    "\n",
    "# Iterate to find the best model\n",
    "for idx, depth in enumerate(depths):\n",
    "    print('Depth: ', depth, ' ', str(datetime.now()))\n",
    "    model = DecisionTreeClassifier(criterion = \"entropy\", max_depth = depth)\n",
    "    scores[idx, : ] = cross_validate(model, n_splits = 10)\n",
    "\n",
    "# Plot the results\n",
    "plt.plot(depths, scores[ : , 1], 'b')\n",
    "plt.fill_between(depths, scores[ : , 0], scores[:, 2], alpha = 0.1)\n",
    "plt.legend(('Median', '(40, 60) percentile'))\n",
    "plt.ylabel('Accuracy')\n",
    "plt.xlabel('Depth')\n",
    "plt.tight_layout()\n",
    "plt.show()"
   ]
  },
  {
   "cell_type": "markdown",
   "metadata": {},
   "source": [
    "Depth = 12 gives the best results"
   ]
  },
  {
   "cell_type": "code",
   "execution_count": 16,
   "metadata": {},
   "outputs": [],
   "source": [
    "Tree_model = DecisionTreeClassifier(criterion = \"entropy\", max_depth = 12).fit(X, y)"
   ]
  },
  {
   "cell_type": "markdown",
   "metadata": {},
   "source": [
    "## Logistic Regression"
   ]
  },
  {
   "cell_type": "code",
   "execution_count": 17,
   "metadata": {},
   "outputs": [
    {
     "name": "stdout",
     "output_type": "stream",
     "text": [
      "C:  0.01   2019-12-19 21:21:20.018809\n",
      "C:  0.03162277660168379   2019-12-19 21:21:27.171526\n",
      "C:  0.1   2019-12-19 21:21:34.123867\n",
      "C:  0.31622776601683794   2019-12-19 21:21:41.116078\n",
      "C:  1.0   2019-12-19 21:21:49.357671\n",
      "C:  3.1622776601683795   2019-12-19 21:21:57.361350\n"
     ]
    },
    {
     "data": {
      "image/png": "[encoded data removed]",
      "text/plain": [
       "<Figure size 432x288 with 1 Axes>"
      ]
     },
     "metadata": {},
     "output_type": "display_data"
    }
   ],
   "source": [
    "# Logistic Regression\n",
    "\n",
    "from sklearn.linear_model import LogisticRegression\n",
    "\n",
    "C = np.logspace(-2.0, 0.5, num = 6, endpoint = True)\n",
    "\n",
    "scores = np.zeros((len(C), 3))\n",
    "\n",
    "for idx, c in enumerate(C):\n",
    "    print('C: ', c, ' ', str(datetime.now()))\n",
    "    model = LogisticRegression(C = c, solver = 'liblinear')\n",
    "    scores[idx, : ] = cross_validate(model, n_splits = 10)\n",
    "\n",
    "plt.plot(C, scores[ : , 1], 'b')\n",
    "plt.xscale('log')\n",
    "plt.fill_between(C, scores[ : , 0], scores[:, 2], alpha = 0.1)\n",
    "plt.legend(('Median', '(40, 60) percentile'))\n",
    "plt.ylabel('Accuracy')\n",
    "plt.xlabel('C')\n",
    "plt.tight_layout()\n",
    "plt.show()"
   ]
  },
  {
   "cell_type": "code",
   "execution_count": 18,
   "metadata": {},
   "outputs": [],
   "source": [
    "LR_model = LogisticRegression(C = 0.0316, solver = 'liblinear').fit(X, y)"
   ]
  },
  {
   "cell_type": "markdown",
   "metadata": {},
   "source": [
    "## Naive Bayes"
   ]
  },
  {
   "cell_type": "code",
   "execution_count": 19,
   "metadata": {},
   "outputs": [
    {
     "name": "stdout",
     "output_type": "stream",
     "text": [
      "Alpha:  0.1   2019-12-19 21:22:48.285222\n",
      "Alpha:  0.2   2019-12-19 21:22:52.283328\n",
      "Alpha:  0.30000000000000004   2019-12-19 21:22:56.158643\n",
      "Alpha:  0.4   2019-12-19 21:23:00.010164\n",
      "Alpha:  0.5   2019-12-19 21:23:03.877784\n",
      "Alpha:  0.6   2019-12-19 21:23:07.726852\n",
      "Alpha:  0.7000000000000001   2019-12-19 21:23:11.574098\n",
      "Alpha:  0.8   2019-12-19 21:23:15.572564\n",
      "Alpha:  0.9   2019-12-19 21:23:19.450463\n",
      "Alpha:  1.0   2019-12-19 21:23:24.135730\n"
     ]
    },
    {
     "data": {
      "image/png": "[encoded data removed]",
      "text/plain": [
       "<Figure size 432x288 with 1 Axes>"
      ]
     },
     "metadata": {},
     "output_type": "display_data"
    }
   ],
   "source": [
    "# Naive Bayes\n",
    "\n",
    "alpha = np.linspace(0.1, 1, num=10)\n",
    "\n",
    "scores = np.zeros((len(alpha), 3))\n",
    "\n",
    "for idx, a in enumerate(alpha):\n",
    "    print('Alpha: ', a, ' ', str(datetime.now()))\n",
    "    model = BernoulliNB(alpha=a)\n",
    "    scores[idx, : ] = cross_validate(model, n_splits = 10)\n",
    "\n",
    "plt.plot(alpha, scores[ : , 1], 'b')\n",
    "plt.fill_between(alpha, scores[ : , 0], scores[:, 2], alpha = 0.1)\n",
    "plt.legend(('Median', '(40, 60) percentile'))\n",
    "plt.ylabel('Accuracy')\n",
    "plt.xlabel('C')\n",
    "plt.tight_layout()\n",
    "plt.show()"
   ]
  },
  {
   "cell_type": "code",
   "execution_count": 22,
   "metadata": {},
   "outputs": [],
   "source": [
    "NB_model = BernoulliNB(alpha=0.1).fit(X, y)"
   ]
  },
  {
   "cell_type": "markdown",
   "metadata": {},
   "source": [
    "## Decision Forest using a Random Forest"
   ]
  },
  {
   "cell_type": "code",
   "execution_count": 25,
   "metadata": {},
   "outputs": [
    {
     "name": "stdout",
     "output_type": "stream",
     "text": [
      "Estimator:  19   2019-12-19 21:33:25.024355\n",
      "Estimator:  20   2019-12-19 21:34:05.639375\n",
      "Estimator:  21   2019-12-19 21:34:45.026665\n",
      "Estimator:  22   2019-12-19 21:35:34.087071\n"
     ]
    },
    {
     "data": {
      "image/png": "[encoded data removed]",
      "text/plain": [
       "<Figure size 432x288 with 1 Axes>"
      ]
     },
     "metadata": {},
     "output_type": "display_data"
    }
   ],
   "source": [
    "\n",
    "\n",
    "est = range(19, 23)\n",
    "scores = np.zeros((len(est), 3))\n",
    "for idx, a in enumerate(est):\n",
    "    print('Estimator: ', a, ' ', str(datetime.now()))\n",
    "    model = RandomForestClassifier(n_estimators = a, max_features = 'sqrt')\n",
    "    scores[idx, : ] = cross_validate(model, n_splits = 10)\n",
    "\n",
    "plt.plot(est, scores[ : , 1], 'b')\n",
    "plt.fill_between(est, scores[ : , 0], scores[:, 2], alpha = 0.1)\n",
    "plt.legend(('Median', '(40, 60) percentile'))\n",
    "plt.ylabel('Accuracy')\n",
    "plt.xlabel('Number of Neighbors')\n",
    "plt.tight_layout()\n",
    "plt.show()"
   ]
  },
  {
   "cell_type": "code",
   "execution_count": 26,
   "metadata": {},
   "outputs": [],
   "source": [
    "Forest_model = RandomForestClassifier(n_estimators = 20, max_features = 'sqrt').fit(X, y)"
   ]
  },
  {
   "cell_type": "markdown",
   "metadata": {},
   "source": [
    "## Determine the best Model"
   ]
  },
  {
   "cell_type": "code",
   "execution_count": 27,
   "metadata": {},
   "outputs": [
    {
     "name": "stderr",
     "output_type": "stream",
     "text": [
      "/home/siddhantmahalle/.local/lib/python3.8/site-packages/sklearn/metrics/_classification.py:656: FutureWarning: jaccard_similarity_score has been deprecated and replaced with jaccard_score. It will be removed in version 0.23. This implementation has surprising behavior for binary and multiclass classification tasks.\n",
      "  warnings.warn('jaccard_similarity_score has been deprecated and replaced '\n",
      "/home/siddhantmahalle/.local/lib/python3.8/site-packages/sklearn/metrics/_classification.py:656: FutureWarning: jaccard_similarity_score has been deprecated and replaced with jaccard_score. It will be removed in version 0.23. This implementation has surprising behavior for binary and multiclass classification tasks.\n",
      "  warnings.warn('jaccard_similarity_score has been deprecated and replaced '\n",
      "/home/siddhantmahalle/.local/lib/python3.8/site-packages/sklearn/metrics/_classification.py:656: FutureWarning: jaccard_similarity_score has been deprecated and replaced with jaccard_score. It will be removed in version 0.23. This implementation has surprising behavior for binary and multiclass classification tasks.\n",
      "  warnings.warn('jaccard_similarity_score has been deprecated and replaced '\n",
      "/home/siddhantmahalle/.local/lib/python3.8/site-packages/sklearn/metrics/_classification.py:656: FutureWarning: jaccard_similarity_score has been deprecated and replaced with jaccard_score. It will be removed in version 0.23. This implementation has surprising behavior for binary and multiclass classification tasks.\n",
      "  warnings.warn('jaccard_similarity_score has been deprecated and replaced '\n",
      "/home/siddhantmahalle/.local/lib/python3.8/site-packages/sklearn/metrics/_classification.py:656: FutureWarning: jaccard_similarity_score has been deprecated and replaced with jaccard_score. It will be removed in version 0.23. This implementation has surprising behavior for binary and multiclass classification tasks.\n",
      "  warnings.warn('jaccard_similarity_score has been deprecated and replaced '\n"
     ]
    },
    {
     "data": {
      "text/html": [
       "<div>\n",
       "<style scoped>\n",
       "    .dataframe tbody tr th:only-of-type {\n",
       "        vertical-align: middle;\n",
       "    }\n",
       "\n",
       "    .dataframe tbody tr th {\n",
       "        vertical-align: top;\n",
       "    }\n",
       "\n",
       "    .dataframe thead th {\n",
       "        text-align: right;\n",
       "    }\n",
       "</style>\n",
       "<table border=\"1\" class=\"dataframe\">\n",
       "  <thead>\n",
       "    <tr style=\"text-align: right;\">\n",
       "      <th></th>\n",
       "      <th>Jaccard</th>\n",
       "      <th>F1-Score</th>\n",
       "      <th>LogLoss</th>\n",
       "    </tr>\n",
       "    <tr>\n",
       "      <th>Algorithm</th>\n",
       "      <th></th>\n",
       "      <th></th>\n",
       "      <th></th>\n",
       "    </tr>\n",
       "  </thead>\n",
       "  <tbody>\n",
       "    <tr>\n",
       "      <th>KNN</th>\n",
       "      <td>0.687951</td>\n",
       "      <td>0.717168</td>\n",
       "      <td>10.777931</td>\n",
       "    </tr>\n",
       "    <tr>\n",
       "      <th>Decision Tree</th>\n",
       "      <td>0.694382</td>\n",
       "      <td>0.703628</td>\n",
       "      <td>10.555772</td>\n",
       "    </tr>\n",
       "    <tr>\n",
       "      <th>Bernoulli Naive Bayes</th>\n",
       "      <td>0.611236</td>\n",
       "      <td>0.658090</td>\n",
       "      <td>13.427587</td>\n",
       "    </tr>\n",
       "    <tr>\n",
       "      <th>Logistic Regression</th>\n",
       "      <td>0.621219</td>\n",
       "      <td>0.682511</td>\n",
       "      <td>13.082811</td>\n",
       "    </tr>\n",
       "    <tr>\n",
       "      <th>Random Forest</th>\n",
       "      <td>0.994625</td>\n",
       "      <td>0.995126</td>\n",
       "      <td>0.185660</td>\n",
       "    </tr>\n",
       "  </tbody>\n",
       "</table>\n",
       "</div>"
      ],
      "text/plain": [
       "                        Jaccard  F1-Score    LogLoss\n",
       "Algorithm                                           \n",
       "KNN                    0.687951  0.717168  10.777931\n",
       "Decision Tree          0.694382  0.703628  10.555772\n",
       "Bernoulli Naive Bayes  0.611236  0.658090  13.427587\n",
       "Logistic Regression    0.621219  0.682511  13.082811\n",
       "Random Forest          0.994625  0.995126   0.185660"
      ]
     },
     "execution_count": 27,
     "metadata": {},
     "output_type": "execute_result"
    }
   ],
   "source": [
    "# Function to iterate over each of the models to get their scores\n",
    "def get_scores(model):\n",
    "\n",
    "    # predict\n",
    "    yhat = model.predict(X)\n",
    "    \n",
    "    jaccard = metrics.jaccard_similarity_score(y, yhat)\n",
    "    f1 = metrics.f1_score(y, yhat, pos_label = 'THEFT')\n",
    "    logloss = metrics.log_loss(y == 'THEFT', yhat == 'THEFT')\n",
    "        \n",
    "    return {'Jaccard' : jaccard, 'F1-Score' : f1, 'LogLoss' : logloss}\n",
    "\n",
    "# Empty Results List    \n",
    "results = []\n",
    "\n",
    "# The Models\n",
    "models = [[KNN_model, 'KNN'], \n",
    "          [Tree_model, 'Decision Tree'], \n",
    "          [NB_model, 'Bernoulli Naive Bayes'], \n",
    "          [LR_model, 'Logistic Regression'],\n",
    "          [Forest_model, 'Random Forest']]\n",
    "\n",
    "# Iterate over each of the models\n",
    "for model, algorithm in models:\n",
    "    \n",
    "    scores = get_scores(model)\n",
    "    scores['Algorithm'] = algorithm\n",
    "    results.append(scores)\n",
    "\n",
    "# Format the results and display them.\n",
    "results = pd.DataFrame(results)\n",
    "results.set_index('Algorithm', inplace = True)\n",
    "\n",
    "results"
   ]
  },
  {
   "cell_type": "code",
   "execution_count": 28,
   "metadata": {},
   "outputs": [],
   "source": [
    "results.to_pickle('./Pickles/results.pkl')"
   ]
  },
  {
   "cell_type": "markdown",
   "metadata": {},
   "source": [
    "# Best Model\n",
    "\n",
    "Ramdom Forest is the best model scoring highest in all measurements, F1-Score, Jaccard and Log Loss. Let's now create a new model. The August crime data will become the unseen test data for the final model."
   ]
  },
  {
   "cell_type": "code",
   "execution_count": 29,
   "metadata": {},
   "outputs": [],
   "source": [
    "# Import the Pickle of the Crimes DataFrame\n",
    "df_crimes = pd.read_pickle('./Pickles/crimes.pkl')\n",
    "df_crimes.drop('index', inplace=True, axis=1)"
   ]
  },
  {
   "cell_type": "markdown",
   "metadata": {},
   "source": [
    "### Recreate the Features DataFrame\n",
    "\n",
    "Recreate the Features DataFrame but this time use all of the data."
   ]
  },
  {
   "cell_type": "code",
   "execution_count": 30,
   "metadata": {},
   "outputs": [],
   "source": [
    "# Start by copying the Latitude and Longitude to the new DataFrame\n",
    "df_features = df_crimes[['latitude', 'longitude']]\n",
    "\n",
    "# Next and One Hot Encoding of the hour, day and month variables\n",
    "df_features = df_features.join(pd.get_dummies(df_crimes.hour, prefix='hour'))\n",
    "df_features = df_features.join(pd.get_dummies(df_crimes.day_name))\n",
    "df_features = df_features.join(pd.get_dummies(df_crimes.month_name))\n",
    "\n",
    "# Finally add the ward & crimes column, copied from the original Primary Description column\n",
    "df_features['ward'] = df_crimes[['ward']]\n",
    "df_features['crimes'] = df_crimes[['primary_type']]\n",
    "\n",
    "# Create a list of the 2 most commonly occuring crimes\n",
    "top_two_crimes = df_features[['crimes', 'ward']].groupby(\n",
    "    ['crimes']).count().sort_values('ward', ascending=False)[:2].axes[0].tolist()\n",
    "\n",
    "# Create a smaller DataFrame of only the top two crimes\n",
    "df_features = df_features[df_features['crimes'].isin(top_two_crimes)].copy()"
   ]
  },
  {
   "cell_type": "code",
   "execution_count": 31,
   "metadata": {},
   "outputs": [
    {
     "data": {
      "text/html": [
       "<div>\n",
       "<style scoped>\n",
       "    .dataframe tbody tr th:only-of-type {\n",
       "        vertical-align: middle;\n",
       "    }\n",
       "\n",
       "    .dataframe tbody tr th {\n",
       "        vertical-align: top;\n",
       "    }\n",
       "\n",
       "    .dataframe thead th {\n",
       "        text-align: right;\n",
       "    }\n",
       "</style>\n",
       "<table border=\"1\" class=\"dataframe\">\n",
       "  <thead>\n",
       "    <tr style=\"text-align: right;\">\n",
       "      <th></th>\n",
       "      <th>latitude</th>\n",
       "      <th>longitude</th>\n",
       "      <th>hour_0</th>\n",
       "      <th>hour_1</th>\n",
       "      <th>hour_2</th>\n",
       "      <th>hour_3</th>\n",
       "      <th>hour_4</th>\n",
       "      <th>hour_5</th>\n",
       "      <th>hour_6</th>\n",
       "      <th>hour_7</th>\n",
       "      <th>...</th>\n",
       "      <th>January</th>\n",
       "      <th>July</th>\n",
       "      <th>June</th>\n",
       "      <th>March</th>\n",
       "      <th>May</th>\n",
       "      <th>November</th>\n",
       "      <th>October</th>\n",
       "      <th>September</th>\n",
       "      <th>ward</th>\n",
       "      <th>crimes</th>\n",
       "    </tr>\n",
       "  </thead>\n",
       "  <tbody>\n",
       "    <tr>\n",
       "      <th>2</th>\n",
       "      <td>41.934946</td>\n",
       "      <td>-87.663647</td>\n",
       "      <td>0</td>\n",
       "      <td>0</td>\n",
       "      <td>0</td>\n",
       "      <td>0</td>\n",
       "      <td>0</td>\n",
       "      <td>0</td>\n",
       "      <td>0</td>\n",
       "      <td>0</td>\n",
       "      <td>...</td>\n",
       "      <td>0</td>\n",
       "      <td>0</td>\n",
       "      <td>0</td>\n",
       "      <td>0</td>\n",
       "      <td>0</td>\n",
       "      <td>0</td>\n",
       "      <td>0</td>\n",
       "      <td>0</td>\n",
       "      <td>32.0</td>\n",
       "      <td>THEFT</td>\n",
       "    </tr>\n",
       "    <tr>\n",
       "      <th>5</th>\n",
       "      <td>41.993061</td>\n",
       "      <td>-87.697050</td>\n",
       "      <td>0</td>\n",
       "      <td>0</td>\n",
       "      <td>0</td>\n",
       "      <td>0</td>\n",
       "      <td>0</td>\n",
       "      <td>0</td>\n",
       "      <td>0</td>\n",
       "      <td>0</td>\n",
       "      <td>...</td>\n",
       "      <td>0</td>\n",
       "      <td>0</td>\n",
       "      <td>0</td>\n",
       "      <td>0</td>\n",
       "      <td>0</td>\n",
       "      <td>0</td>\n",
       "      <td>0</td>\n",
       "      <td>0</td>\n",
       "      <td>40.0</td>\n",
       "      <td>BATTERY</td>\n",
       "    </tr>\n",
       "    <tr>\n",
       "      <th>6</th>\n",
       "      <td>41.867415</td>\n",
       "      <td>-87.627231</td>\n",
       "      <td>0</td>\n",
       "      <td>0</td>\n",
       "      <td>0</td>\n",
       "      <td>0</td>\n",
       "      <td>0</td>\n",
       "      <td>0</td>\n",
       "      <td>0</td>\n",
       "      <td>0</td>\n",
       "      <td>...</td>\n",
       "      <td>0</td>\n",
       "      <td>0</td>\n",
       "      <td>0</td>\n",
       "      <td>0</td>\n",
       "      <td>0</td>\n",
       "      <td>0</td>\n",
       "      <td>0</td>\n",
       "      <td>0</td>\n",
       "      <td>4.0</td>\n",
       "      <td>BATTERY</td>\n",
       "    </tr>\n",
       "    <tr>\n",
       "      <th>7</th>\n",
       "      <td>41.886493</td>\n",
       "      <td>-87.700243</td>\n",
       "      <td>0</td>\n",
       "      <td>0</td>\n",
       "      <td>0</td>\n",
       "      <td>0</td>\n",
       "      <td>0</td>\n",
       "      <td>0</td>\n",
       "      <td>0</td>\n",
       "      <td>0</td>\n",
       "      <td>...</td>\n",
       "      <td>0</td>\n",
       "      <td>0</td>\n",
       "      <td>0</td>\n",
       "      <td>0</td>\n",
       "      <td>0</td>\n",
       "      <td>0</td>\n",
       "      <td>0</td>\n",
       "      <td>0</td>\n",
       "      <td>27.0</td>\n",
       "      <td>THEFT</td>\n",
       "    </tr>\n",
       "    <tr>\n",
       "      <th>8</th>\n",
       "      <td>41.826662</td>\n",
       "      <td>-87.644788</td>\n",
       "      <td>0</td>\n",
       "      <td>0</td>\n",
       "      <td>0</td>\n",
       "      <td>0</td>\n",
       "      <td>0</td>\n",
       "      <td>0</td>\n",
       "      <td>0</td>\n",
       "      <td>0</td>\n",
       "      <td>...</td>\n",
       "      <td>0</td>\n",
       "      <td>0</td>\n",
       "      <td>0</td>\n",
       "      <td>0</td>\n",
       "      <td>0</td>\n",
       "      <td>0</td>\n",
       "      <td>0</td>\n",
       "      <td>0</td>\n",
       "      <td>11.0</td>\n",
       "      <td>THEFT</td>\n",
       "    </tr>\n",
       "  </tbody>\n",
       "</table>\n",
       "<p>5 rows × 47 columns</p>\n",
       "</div>"
      ],
      "text/plain": [
       "    latitude  longitude  hour_0  hour_1  hour_2  hour_3  hour_4  hour_5  \\\n",
       "2  41.934946 -87.663647       0       0       0       0       0       0   \n",
       "5  41.993061 -87.697050       0       0       0       0       0       0   \n",
       "6  41.867415 -87.627231       0       0       0       0       0       0   \n",
       "7  41.886493 -87.700243       0       0       0       0       0       0   \n",
       "8  41.826662 -87.644788       0       0       0       0       0       0   \n",
       "\n",
       "   hour_6  hour_7  ...  January  July  June  March  May  November  October  \\\n",
       "2       0       0  ...        0     0     0      0    0         0        0   \n",
       "5       0       0  ...        0     0     0      0    0         0        0   \n",
       "6       0       0  ...        0     0     0      0    0         0        0   \n",
       "7       0       0  ...        0     0     0      0    0         0        0   \n",
       "8       0       0  ...        0     0     0      0    0         0        0   \n",
       "\n",
       "   September  ward   crimes  \n",
       "2          0  32.0    THEFT  \n",
       "5          0  40.0  BATTERY  \n",
       "6          0   4.0  BATTERY  \n",
       "7          0  27.0    THEFT  \n",
       "8          0  11.0    THEFT  \n",
       "\n",
       "[5 rows x 47 columns]"
      ]
     },
     "execution_count": 31,
     "metadata": {},
     "output_type": "execute_result"
    }
   ],
   "source": [
    "# Looking at the head of the features dataframe we can see the encoded labels\n",
    "df_features.head()"
   ]
  },
  {
   "cell_type": "code",
   "execution_count": 32,
   "metadata": {},
   "outputs": [
    {
     "data": {
      "text/plain": [
       "latitude     float64\n",
       "longitude    float64\n",
       "hour_0         uint8\n",
       "hour_1         uint8\n",
       "hour_2         uint8\n",
       "hour_3         uint8\n",
       "hour_4         uint8\n",
       "hour_5         uint8\n",
       "hour_6         uint8\n",
       "hour_7         uint8\n",
       "hour_8         uint8\n",
       "hour_9         uint8\n",
       "hour_10        uint8\n",
       "hour_11        uint8\n",
       "hour_12        uint8\n",
       "hour_13        uint8\n",
       "hour_14        uint8\n",
       "hour_15        uint8\n",
       "hour_16        uint8\n",
       "hour_17        uint8\n",
       "hour_18        uint8\n",
       "hour_19        uint8\n",
       "hour_20        uint8\n",
       "hour_21        uint8\n",
       "hour_22        uint8\n",
       "hour_23        uint8\n",
       "Friday         uint8\n",
       "Monday         uint8\n",
       "Saturday       uint8\n",
       "Sunday         uint8\n",
       "Thursday       uint8\n",
       "Tuesday        uint8\n",
       "Wednesday      uint8\n",
       "April          uint8\n",
       "August         uint8\n",
       "December       uint8\n",
       "February       uint8\n",
       "January        uint8\n",
       "July           uint8\n",
       "June           uint8\n",
       "March          uint8\n",
       "May            uint8\n",
       "November       uint8\n",
       "October        uint8\n",
       "September      uint8\n",
       "ward         float64\n",
       "crimes        object\n",
       "dtype: object"
      ]
     },
     "execution_count": 32,
     "metadata": {},
     "output_type": "execute_result"
    }
   ],
   "source": [
    "df_features.dtypes"
   ]
  },
  {
   "cell_type": "markdown",
   "metadata": {},
   "source": [
    "### Create the Train Datasets"
   ]
  },
  {
   "cell_type": "code",
   "execution_count": 34,
   "metadata": {},
   "outputs": [],
   "source": [
    "X_Train = df_features[df_features.August == 0].copy()\n",
    "X_Train.drop('crimes', axis=1, inplace=True)\n",
    "\n",
    "# Normalise df_features\n",
    "\n",
    "X_Train = preprocessing.StandardScaler().fit(X_Train).transform(X_Train)\n",
    "\n",
    "y_Train = df_features.crimes[df_features.August == 0].values"
   ]
  },
  {
   "cell_type": "markdown",
   "metadata": {},
   "source": [
    "### Create the Test Datasets"
   ]
  },
  {
   "cell_type": "code",
   "execution_count": 36,
   "metadata": {},
   "outputs": [],
   "source": [
    "X_Test = df_features[df_features.August == 1].copy()\n",
    "X_Test.drop('crimes', axis=1, inplace=True)\n",
    "\n",
    "# Normalise df_features\n",
    "X_Test = preprocessing.StandardScaler().fit(X_Test).transform(X_Test)\n",
    "\n",
    "y_Test = df_features.crimes[df_features.August == 1].values"
   ]
  },
  {
   "cell_type": "markdown",
   "metadata": {},
   "source": [
    "### Recreate the Random Forest Model"
   ]
  },
  {
   "cell_type": "code",
   "execution_count": 37,
   "metadata": {},
   "outputs": [],
   "source": [
    "Forest_model_final = RandomForestClassifier(n_estimators = 20, max_features = 'sqrt').fit(X_Train, y_Train)"
   ]
  },
  {
   "cell_type": "markdown",
   "metadata": {},
   "source": [
    "### Predict the Final Performance of the Model"
   ]
  },
  {
   "cell_type": "code",
   "execution_count": 38,
   "metadata": {},
   "outputs": [
    {
     "name": "stdout",
     "output_type": "stream",
     "text": [
      "Jaccard Score 0.6382577543131894\n",
      "F1-Score of each class [0.60810949 0.66409875]\n"
     ]
    },
    {
     "name": "stderr",
     "output_type": "stream",
     "text": [
      "/home/siddhantmahalle/.local/lib/python3.8/site-packages/sklearn/metrics/_classification.py:656: FutureWarning: jaccard_similarity_score has been deprecated and replaced with jaccard_score. It will be removed in version 0.23. This implementation has surprising behavior for binary and multiclass classification tasks.\n",
      "  warnings.warn('jaccard_similarity_score has been deprecated and replaced '\n"
     ]
    }
   ],
   "source": [
    "# Predict yhat using X_Test\n",
    "yhat = Forest_model_final.predict(X_Test)\n",
    "    \n",
    "# Measure the Jaccard Score of the final Model\n",
    "jaccard_final = metrics.jaccard_similarity_score(y_Test, yhat)\n",
    "print('Jaccard Score', jaccard_final)\n",
    "    \n",
    "f1 = metrics.f1_score(y_Test, yhat, average=None)\n",
    "print('F1-Score of each class', f1)"
   ]
  },
  {
   "cell_type": "markdown",
   "metadata": {},
   "source": [
    "### What are the important Features"
   ]
  },
  {
   "cell_type": "code",
   "execution_count": 39,
   "metadata": {},
   "outputs": [],
   "source": [
    "importances = Forest_model_final.feature_importances_"
   ]
  },
  {
   "cell_type": "code",
   "execution_count": 40,
   "metadata": {},
   "outputs": [
    {
     "name": "stdout",
     "output_type": "stream",
     "text": [
      "Feature ranking:\n",
      "1. feature 0 (0.267571)\n",
      "2. feature 1 (0.254982)\n",
      "3. feature 45 (0.113628)\n",
      "4. feature 38 (0.013616)\n",
      "5. feature 31 (0.013247)\n",
      "6. feature 39 (0.013124)\n",
      "7. feature 30 (0.012890)\n",
      "8. feature 44 (0.012877)\n",
      "9. feature 26 (0.012833)\n",
      "10. feature 43 (0.012784)\n",
      "11. feature 41 (0.012727)\n",
      "12. feature 42 (0.012621)\n",
      "13. feature 27 (0.012420)\n",
      "14. feature 32 (0.012248)\n",
      "15. feature 37 (0.012214)\n",
      "16. feature 33 (0.011906)\n",
      "17. feature 40 (0.011863)\n",
      "18. feature 36 (0.011813)\n",
      "19. feature 28 (0.011355)\n",
      "20. feature 29 (0.009267)\n",
      "21. feature 18 (0.007977)\n",
      "22. feature 22 (0.007706)\n",
      "23. feature 21 (0.007653)\n",
      "24. feature 13 (0.007308)\n",
      "25. feature 17 (0.007109)\n",
      "26. feature 20 (0.007089)\n",
      "27. feature 24 (0.007054)\n",
      "28. feature 19 (0.006822)\n",
      "29. feature 23 (0.006752)\n",
      "30. feature 35 (0.006629)\n",
      "31. feature 12 (0.006386)\n",
      "32. feature 10 (0.006088)\n",
      "33. feature 2 (0.006067)\n",
      "34. feature 11 (0.006028)\n",
      "35. feature 16 (0.005985)\n",
      "36. feature 25 (0.005974)\n",
      "37. feature 3 (0.005918)\n",
      "38. feature 4 (0.005703)\n",
      "39. feature 15 (0.005488)\n",
      "40. feature 9 (0.005433)\n",
      "41. feature 5 (0.005230)\n",
      "42. feature 14 (0.005072)\n",
      "43. feature 8 (0.004588)\n",
      "44. feature 6 (0.004105)\n",
      "45. feature 7 (0.003852)\n",
      "46. feature 34 (0.000000)\n"
     ]
    },
    {
     "data": {
      "image/png": "[encoded data removed]",
      "text/plain": [
       "<Figure size 1080x432 with 1 Axes>"
      ]
     },
     "metadata": {},
     "output_type": "display_data"
    }
   ],
   "source": [
    "std = np.std([tree.feature_importances_ for tree in Forest_model_final.estimators_],\n",
    "             axis=0)\n",
    "\n",
    "indices = np.argsort(importances)[::-1]\n",
    "\n",
    "# Print the feature ranking\n",
    "print(\"Feature ranking:\")\n",
    "\n",
    "for f in range(X_Train.shape[1]):\n",
    "    print(\"%d. feature %d (%f)\" % (f + 1, indices[f], importances[indices[f]]))\n",
    "\n",
    "# Plot the feature importances of the forest\n",
    "plt.figure(figsize=(15, 6))\n",
    "plt.title(\"Feature importances\")\n",
    "plt.bar(range(X_Train.shape[1]), importances[indices],\n",
    "       color=\"r\", yerr=std[indices], align=\"center\")\n",
    "plt.xticks(range(X_Train.shape[1]), indices)\n",
    "plt.xlim([-1, X_Train.shape[1]])\n",
    "plt.show()"
   ]
  },
  {
   "cell_type": "markdown",
   "metadata": {},
   "source": [
    "This shows that the most predictive models are:\n",
    "\n",
    "1. Latitude\n",
    "1. Longitude\n",
    "1. Ward\n",
    "\n",
    "The other features, particulraly the hour the crime took place, are less predictive."
   ]
  },
  {
   "cell_type": "code",
   "execution_count": 41,
   "metadata": {},
   "outputs": [
    {
     "name": "stdout",
     "output_type": "stream",
     "text": [
      "Jaccard Score 0.6382577543131894\n",
      "F1-Score of each class [0.60810949 0.66409875]\n"
     ]
    },
    {
     "name": "stderr",
     "output_type": "stream",
     "text": [
      "/home/siddhantmahalle/.local/lib/python3.8/site-packages/sklearn/metrics/_classification.py:656: FutureWarning: jaccard_similarity_score has been deprecated and replaced with jaccard_score. It will be removed in version 0.23. This implementation has surprising behavior for binary and multiclass classification tasks.\n",
      "  warnings.warn('jaccard_similarity_score has been deprecated and replaced '\n"
     ]
    }
   ],
   "source": [
    "# Predict yhat using X_Test\n",
    "yhat_dt = Forest_model_final.predict(X_Test)\n",
    "    \n",
    "# Measure the Jaccard Score of the final Model\n",
    "jaccard_final = metrics.jaccard_similarity_score(y_Test, yhat_dt)\n",
    "print('Jaccard Score', jaccard_final)\n",
    "    \n",
    "f1 = metrics.f1_score(y_Test, yhat_dt, average=None)\n",
    "print('F1-Score of each class', f1)"
   ]
  },
  {
   "cell_type": "code",
   "execution_count": null,
   "metadata": {},
   "outputs": [],
   "source": []
  }
 ],
 "metadata": {
  "kernelspec": {
   "display_name": "Python 3",
   "language": "python",
   "name": "python3"
  },
  "language_info": {
   "codemirror_mode": {
    "name": "ipython",
    "version": 3
   },
   "file_extension": ".py",
   "mimetype": "text/x-python",
   "name": "python",
   "nbconvert_exporter": "python",
   "pygments_lexer": "ipython3",
   "version": "3.8.0"
  }
 },
 "nbformat": 4,
 "nbformat_minor": 4
}

{
 "cells": [
  {
   "cell_type": "markdown",
   "metadata": {},
   "source": [
    "# Inferential Statistics\n",
    "\n",
    "Inferential statistics allows us to provide insight on a given topic. There are many types of statistical tests that allows one to make inferences. Some of the common statistical tests are:\n",
    "\n",
    "* Correlations\n",
    "* Chi-square test\n",
    "* Independent t-test (a.k.a Student’s t-test)\n",
    "* Paired sample t-test\n",
    "* Welch’s t-test\n",
    "* Wilcoxon signed-rank test\n",
    "* Linear regression\n",
    "* Logistic regression\n",
    "* One-way Analysis of Variance (ANOVA)\n",
    "* Two-way/N-way ANOVA\n",
    "\n",
    "In this section we will investigate if there are any obvious inferential statisticical methods that can help us when modelling the data.\n",
    "\n",
    "## Import required Libraries\n",
    "\n",
    "We start, as normal, by importing required libaries."
   ]
  },
  {
   "cell_type": "code",
   "execution_count": 1,
   "metadata": {},
   "outputs": [],
   "source": [
    "import pandas as pd # Import Pandas\n",
    "\n",
    "# Use the inline backend to generate the plots within the browser\n",
    "%matplotlib inline \n",
    "\n",
    "import matplotlib as mpl\n",
    "import matplotlib.pyplot as plt\n",
    "\n",
    "import seaborn as sns\n",
    "sns.set_style(\"darkgrid\")\n",
    "\n",
    "font = {'size'   : 14}\n",
    "mpl.rc('font', **font)"
   ]
  },
  {
   "cell_type": "markdown",
   "metadata": {},
   "source": [
    "## Import Dataframes from Pickle files\n",
    "\n",
    "We load in the exported pickle files of the dataframes created in the Data Acquition Section."
   ]
  },
  {
   "cell_type": "code",
   "execution_count": 2,
   "metadata": {},
   "outputs": [],
   "source": [
    "# Import the Pickle of the Crimes DataFrame\n",
    "\n",
    "df_crimes = pd.read_pickle('./Pickles/crimes.pkl')\n",
    "df_crimes.drop('index', inplace=True, axis=1)\n",
    "\n",
    "# Import the Pickle of the Top Venues DataFrame\n",
    "\n",
    "df_topvnues = pd.read_pickle('./Pickles/top_venues.pkl')\n",
    "\n",
    "# Import the Pickle of the Restaurants DataFrame\n",
    "\n",
    "df_rest = pd.read_pickle('./Pickles/restaurants.pkl')"
   ]
  },
  {
   "cell_type": "code",
   "execution_count": 3,
   "metadata": {},
   "outputs": [
    {
     "data": {
      "text/html": [
       "<div>\n",
       "<style scoped>\n",
       "    .dataframe tbody tr th:only-of-type {\n",
       "        vertical-align: middle;\n",
       "    }\n",
       "\n",
       "    .dataframe tbody tr th {\n",
       "        vertical-align: top;\n",
       "    }\n",
       "\n",
       "    .dataframe thead th {\n",
       "        text-align: right;\n",
       "    }\n",
       "</style>\n",
       "<table border=\"1\" class=\"dataframe\">\n",
       "  <thead>\n",
       "    <tr style=\"text-align: right;\">\n",
       "      <th></th>\n",
       "      <th>case_number</th>\n",
       "      <th>date</th>\n",
       "      <th>block</th>\n",
       "      <th>primary_type</th>\n",
       "      <th>ward</th>\n",
       "      <th>latitude</th>\n",
       "      <th>longitude</th>\n",
       "      <th>hour</th>\n",
       "      <th>day_name</th>\n",
       "      <th>day</th>\n",
       "      <th>month_name</th>\n",
       "      <th>month</th>\n",
       "      <th>year</th>\n",
       "      <th>year_month</th>\n",
       "      <th>zip</th>\n",
       "      <th>street</th>\n",
       "    </tr>\n",
       "  </thead>\n",
       "  <tbody>\n",
       "    <tr>\n",
       "      <th>0</th>\n",
       "      <td>JC540199</td>\n",
       "      <td>2019-12-09 07:30:00</td>\n",
       "      <td>035XX S RHODES AVE</td>\n",
       "      <td>OTHER OFFENSE</td>\n",
       "      <td>4.0</td>\n",
       "      <td>41.830697</td>\n",
       "      <td>-87.614477</td>\n",
       "      <td>7</td>\n",
       "      <td>Monday</td>\n",
       "      <td>1</td>\n",
       "      <td>December</td>\n",
       "      <td>12</td>\n",
       "      <td>2019</td>\n",
       "      <td>2019-12</td>\n",
       "      <td>035XX</td>\n",
       "      <td>S, RHODES, AVE</td>\n",
       "    </tr>\n",
       "    <tr>\n",
       "      <th>1</th>\n",
       "      <td>JC540344</td>\n",
       "      <td>2019-12-09 11:00:00</td>\n",
       "      <td>014XX W FLOURNOY ST</td>\n",
       "      <td>ROBBERY</td>\n",
       "      <td>28.0</td>\n",
       "      <td>41.873334</td>\n",
       "      <td>-87.662844</td>\n",
       "      <td>11</td>\n",
       "      <td>Monday</td>\n",
       "      <td>1</td>\n",
       "      <td>December</td>\n",
       "      <td>12</td>\n",
       "      <td>2019</td>\n",
       "      <td>2019-12</td>\n",
       "      <td>014XX</td>\n",
       "      <td>W, FLOURNOY, ST</td>\n",
       "    </tr>\n",
       "    <tr>\n",
       "      <th>2</th>\n",
       "      <td>JC541060</td>\n",
       "      <td>2019-12-09 19:55:00</td>\n",
       "      <td>029XX N SOUTHPORT AVE</td>\n",
       "      <td>THEFT</td>\n",
       "      <td>32.0</td>\n",
       "      <td>41.934946</td>\n",
       "      <td>-87.663647</td>\n",
       "      <td>19</td>\n",
       "      <td>Monday</td>\n",
       "      <td>1</td>\n",
       "      <td>December</td>\n",
       "      <td>12</td>\n",
       "      <td>2019</td>\n",
       "      <td>2019-12</td>\n",
       "      <td>029XX</td>\n",
       "      <td>N, SOUTHPORT, AVE</td>\n",
       "    </tr>\n",
       "    <tr>\n",
       "      <th>3</th>\n",
       "      <td>JC541313</td>\n",
       "      <td>2019-12-09 23:00:00</td>\n",
       "      <td>002XX N DEARBORN ST</td>\n",
       "      <td>CRIM SEXUAL ASSAULT</td>\n",
       "      <td>42.0</td>\n",
       "      <td>41.886013</td>\n",
       "      <td>-87.629505</td>\n",
       "      <td>23</td>\n",
       "      <td>Monday</td>\n",
       "      <td>1</td>\n",
       "      <td>December</td>\n",
       "      <td>12</td>\n",
       "      <td>2019</td>\n",
       "      <td>2019-12</td>\n",
       "      <td>002XX</td>\n",
       "      <td>N, DEARBORN, ST</td>\n",
       "    </tr>\n",
       "    <tr>\n",
       "      <th>4</th>\n",
       "      <td>JC541486</td>\n",
       "      <td>2019-12-09 22:06:00</td>\n",
       "      <td>035XX S RHODES AVE</td>\n",
       "      <td>ASSAULT</td>\n",
       "      <td>4.0</td>\n",
       "      <td>41.830697</td>\n",
       "      <td>-87.614477</td>\n",
       "      <td>22</td>\n",
       "      <td>Monday</td>\n",
       "      <td>1</td>\n",
       "      <td>December</td>\n",
       "      <td>12</td>\n",
       "      <td>2019</td>\n",
       "      <td>2019-12</td>\n",
       "      <td>035XX</td>\n",
       "      <td>S, RHODES, AVE</td>\n",
       "    </tr>\n",
       "  </tbody>\n",
       "</table>\n",
       "</div>"
      ],
      "text/plain": [
       "  case_number                date                  block         primary_type  \\\n",
       "0    JC540199 2019-12-09 07:30:00     035XX S RHODES AVE        OTHER OFFENSE   \n",
       "1    JC540344 2019-12-09 11:00:00    014XX W FLOURNOY ST              ROBBERY   \n",
       "2    JC541060 2019-12-09 19:55:00  029XX N SOUTHPORT AVE                THEFT   \n",
       "3    JC541313 2019-12-09 23:00:00    002XX N DEARBORN ST  CRIM SEXUAL ASSAULT   \n",
       "4    JC541486 2019-12-09 22:06:00     035XX S RHODES AVE              ASSAULT   \n",
       "\n",
       "   ward   latitude  longitude  hour day_name  day month_name  month  year  \\\n",
       "0   4.0  41.830697 -87.614477     7   Monday    1   December     12  2019   \n",
       "1  28.0  41.873334 -87.662844    11   Monday    1   December     12  2019   \n",
       "2  32.0  41.934946 -87.663647    19   Monday    1   December     12  2019   \n",
       "3  42.0  41.886013 -87.629505    23   Monday    1   December     12  2019   \n",
       "4   4.0  41.830697 -87.614477    22   Monday    1   December     12  2019   \n",
       "\n",
       "  year_month    zip             street  \n",
       "0    2019-12  035XX     S, RHODES, AVE  \n",
       "1    2019-12  014XX    W, FLOURNOY, ST  \n",
       "2    2019-12  029XX  N, SOUTHPORT, AVE  \n",
       "3    2019-12  002XX    N, DEARBORN, ST  \n",
       "4    2019-12  035XX     S, RHODES, AVE  "
      ]
     },
     "execution_count": 3,
     "metadata": {},
     "output_type": "execute_result"
    }
   ],
   "source": [
    "df_crimes.head()"
   ]
  },
  {
   "cell_type": "code",
   "execution_count": 4,
   "metadata": {},
   "outputs": [],
   "source": [
    "df_crimeward_crosstab = pd.crosstab(df_crimes.primary_type, df_crimes.ward)"
   ]
  },
  {
   "cell_type": "markdown",
   "metadata": {},
   "source": [
    "---"
   ]
  },
  {
   "cell_type": "code",
   "execution_count": 5,
   "metadata": {},
   "outputs": [
    {
     "data": {
      "text/html": [
       "<div>\n",
       "<style scoped>\n",
       "    .dataframe tbody tr th:only-of-type {\n",
       "        vertical-align: middle;\n",
       "    }\n",
       "\n",
       "    .dataframe tbody tr th {\n",
       "        vertical-align: top;\n",
       "    }\n",
       "\n",
       "    .dataframe thead th {\n",
       "        text-align: right;\n",
       "    }\n",
       "</style>\n",
       "<table border=\"1\" class=\"dataframe\">\n",
       "  <thead>\n",
       "    <tr style=\"text-align: right;\">\n",
       "      <th></th>\n",
       "      <th>id</th>\n",
       "      <th>score</th>\n",
       "      <th>category</th>\n",
       "      <th>name</th>\n",
       "      <th>address</th>\n",
       "      <th>postalcode</th>\n",
       "      <th>city</th>\n",
       "      <th>href</th>\n",
       "      <th>latitude</th>\n",
       "      <th>longitude</th>\n",
       "    </tr>\n",
       "  </thead>\n",
       "  <tbody>\n",
       "    <tr>\n",
       "      <th>0</th>\n",
       "      <td>42b75880f964a52090251fe3</td>\n",
       "      <td>9.6</td>\n",
       "      <td>Park</td>\n",
       "      <td>Millennium Park</td>\n",
       "      <td>201 E Randolph St</td>\n",
       "      <td>60601</td>\n",
       "      <td>Chicago</td>\n",
       "      <td>/v/millennium-park/42b75880f964a52090251fe3</td>\n",
       "      <td>41.883112</td>\n",
       "      <td>-87.623851</td>\n",
       "    </tr>\n",
       "    <tr>\n",
       "      <th>1</th>\n",
       "      <td>49e9ef74f964a52011661fe3</td>\n",
       "      <td>9.5</td>\n",
       "      <td>Art Museum</td>\n",
       "      <td>The Art Institute of Chicago</td>\n",
       "      <td>111 S Michigan Ave</td>\n",
       "      <td>60603</td>\n",
       "      <td>Chicago</td>\n",
       "      <td>/v/the-art-institute-of-chicago/49e9ef74f964a5...</td>\n",
       "      <td>41.879610</td>\n",
       "      <td>-87.623552</td>\n",
       "    </tr>\n",
       "    <tr>\n",
       "      <th>2</th>\n",
       "      <td>4c47533649fa9521cb1f5e62</td>\n",
       "      <td>9.5</td>\n",
       "      <td>Park</td>\n",
       "      <td>Grant Park</td>\n",
       "      <td>337 E Randolph Dr</td>\n",
       "      <td>60601</td>\n",
       "      <td>Chicago</td>\n",
       "      <td>/v/grant-park/4c47533649fa9521cb1f5e62</td>\n",
       "      <td>41.876626</td>\n",
       "      <td>-87.619263</td>\n",
       "    </tr>\n",
       "    <tr>\n",
       "      <th>3</th>\n",
       "      <td>4b9d15c5f964a520478e36e3</td>\n",
       "      <td>9.5</td>\n",
       "      <td>Waterfront</td>\n",
       "      <td>Chicago Riverwalk</td>\n",
       "      <td>Chicago River</td>\n",
       "      <td>60601</td>\n",
       "      <td>Chicago</td>\n",
       "      <td>/v/chicago-riverwalk/4b9d15c5f964a520478e36e3</td>\n",
       "      <td>41.887280</td>\n",
       "      <td>-87.627217</td>\n",
       "    </tr>\n",
       "    <tr>\n",
       "      <th>4</th>\n",
       "      <td>4b06c066f964a52097ef22e3</td>\n",
       "      <td>9.5</td>\n",
       "      <td>Liquor Store</td>\n",
       "      <td>Binny's Beverage Depot</td>\n",
       "      <td>1720 N Marcey St</td>\n",
       "      <td>60614</td>\n",
       "      <td>Chicago</td>\n",
       "      <td>/v/binnys-beverage-depot/4b06c066f964a52097ef22e3</td>\n",
       "      <td>41.913048</td>\n",
       "      <td>-87.655320</td>\n",
       "    </tr>\n",
       "  </tbody>\n",
       "</table>\n",
       "</div>"
      ],
      "text/plain": [
       "                         id  score      category  \\\n",
       "0  42b75880f964a52090251fe3    9.6          Park   \n",
       "1  49e9ef74f964a52011661fe3    9.5    Art Museum   \n",
       "2  4c47533649fa9521cb1f5e62    9.5          Park   \n",
       "3  4b9d15c5f964a520478e36e3    9.5    Waterfront   \n",
       "4  4b06c066f964a52097ef22e3    9.5  Liquor Store   \n",
       "\n",
       "                           name             address postalcode     city  \\\n",
       "0               Millennium Park   201 E Randolph St      60601  Chicago   \n",
       "1  The Art Institute of Chicago  111 S Michigan Ave      60603  Chicago   \n",
       "2                    Grant Park   337 E Randolph Dr      60601  Chicago   \n",
       "3             Chicago Riverwalk       Chicago River      60601  Chicago   \n",
       "4        Binny's Beverage Depot    1720 N Marcey St      60614  Chicago   \n",
       "\n",
       "                                                href   latitude  longitude  \n",
       "0        /v/millennium-park/42b75880f964a52090251fe3  41.883112 -87.623851  \n",
       "1  /v/the-art-institute-of-chicago/49e9ef74f964a5...  41.879610 -87.623552  \n",
       "2             /v/grant-park/4c47533649fa9521cb1f5e62  41.876626 -87.619263  \n",
       "3      /v/chicago-riverwalk/4b9d15c5f964a520478e36e3  41.887280 -87.627217  \n",
       "4  /v/binnys-beverage-depot/4b06c066f964a52097ef22e3  41.913048 -87.655320  "
      ]
     },
     "execution_count": 5,
     "metadata": {},
     "output_type": "execute_result"
    }
   ],
   "source": [
    "df_topvnues.head()"
   ]
  },
  {
   "cell_type": "code",
   "execution_count": 6,
   "metadata": {},
   "outputs": [
    {
     "data": {
      "text/plain": [
       "Text(0.0, 1.0, 'Scatter Plot of Top Venues Latitude and Score')"
      ]
     },
     "execution_count": 6,
     "metadata": {},
     "output_type": "execute_result"
    },
    {
     "data": {
      "image/png": "[encoded data removed]",
      "text/plain": [
       "<Figure size 720x432 with 1 Axes>"
      ]
     },
     "metadata": {},
     "output_type": "display_data"
    }
   ],
   "source": [
    "df_topvnues.plot.scatter('score', 'latitude', figsize=(10,6))\n",
    "\n",
    "plt.xlabel('Score')\n",
    "plt.ylabel('Latitude')\n",
    "plt.title('Scatter Plot of Top Venues Latitude and Score', loc='left', fontsize=18)"
   ]
  },
  {
   "cell_type": "code",
   "execution_count": 7,
   "metadata": {},
   "outputs": [
    {
     "data": {
      "text/plain": [
       "Text(0.0, 1.0, 'Scatter Plot of Top Venues Longitude and Score')"
      ]
     },
     "execution_count": 7,
     "metadata": {},
     "output_type": "execute_result"
    },
    {
     "data": {
      "image/png": "[encoded data removed]",
      "text/plain": [
       "<Figure size 720x432 with 1 Axes>"
      ]
     },
     "metadata": {},
     "output_type": "display_data"
    }
   ],
   "source": [
    "df_topvnues.plot.scatter('score', 'longitude', figsize=(10,6))\n",
    "\n",
    "plt.xlabel('Score')\n",
    "plt.ylabel('Longitude')\n",
    "plt.title('Scatter Plot of Top Venues Longitude and Score', loc='left', fontsize=18)"
   ]
  },
  {
   "cell_type": "markdown",
   "metadata": {},
   "source": [
    "---"
   ]
  },
  {
   "cell_type": "code",
   "execution_count": 9,
   "metadata": {},
   "outputs": [
    {
     "data": {
      "text/html": [
       "<div>\n",
       "<style scoped>\n",
       "    .dataframe tbody tr th:only-of-type {\n",
       "        vertical-align: middle;\n",
       "    }\n",
       "\n",
       "    .dataframe tbody tr th {\n",
       "        vertical-align: top;\n",
       "    }\n",
       "\n",
       "    .dataframe thead th {\n",
       "        text-align: right;\n",
       "    }\n",
       "</style>\n",
       "<table border=\"1\" class=\"dataframe\">\n",
       "  <thead>\n",
       "    <tr style=\"text-align: right;\">\n",
       "      <th></th>\n",
       "      <th>id</th>\n",
       "      <th>score</th>\n",
       "      <th>category</th>\n",
       "      <th>categoryID</th>\n",
       "      <th>name</th>\n",
       "      <th>address</th>\n",
       "      <th>postalcode</th>\n",
       "      <th>city</th>\n",
       "      <th>latitude</th>\n",
       "      <th>longitude</th>\n",
       "      <th>venue_name</th>\n",
       "      <th>venue_latitude</th>\n",
       "      <th>venue_longitude</th>\n",
       "    </tr>\n",
       "  </thead>\n",
       "  <tbody>\n",
       "    <tr>\n",
       "      <th>0</th>\n",
       "      <td>4582cc9ef964a520843f1fe3</td>\n",
       "      <td>6.2</td>\n",
       "      <td>American Restaurants</td>\n",
       "      <td>4bf58dd8d48988d14e941735</td>\n",
       "      <td>Park Grill</td>\n",
       "      <td>11 N Michigan Ave</td>\n",
       "      <td>60602</td>\n",
       "      <td>Chicago</td>\n",
       "      <td>41.882732</td>\n",
       "      <td>-87.623847</td>\n",
       "      <td>Millennium Park</td>\n",
       "      <td>41.883112</td>\n",
       "      <td>-87.623851</td>\n",
       "    </tr>\n",
       "    <tr>\n",
       "      <th>1</th>\n",
       "      <td>4e73881c922e0a374024c7b8</td>\n",
       "      <td>7.7</td>\n",
       "      <td>Coffee Shops</td>\n",
       "      <td>4bf58dd8d48988d1e0931735</td>\n",
       "      <td>Starbucks</td>\n",
       "      <td>8 N Michigan Ave</td>\n",
       "      <td>60602</td>\n",
       "      <td>Chicago</td>\n",
       "      <td>41.882478</td>\n",
       "      <td>-87.624701</td>\n",
       "      <td>Millennium Park</td>\n",
       "      <td>41.883112</td>\n",
       "      <td>-87.623851</td>\n",
       "    </tr>\n",
       "    <tr>\n",
       "      <th>2</th>\n",
       "      <td>551192b1498e8695352d33e6</td>\n",
       "      <td>8.1</td>\n",
       "      <td>American Restaurants</td>\n",
       "      <td>4bf58dd8d48988d14e941735</td>\n",
       "      <td>Remington's</td>\n",
       "      <td>20 N Michigan Ave</td>\n",
       "      <td>60602</td>\n",
       "      <td>Chicago</td>\n",
       "      <td>41.882628</td>\n",
       "      <td>-87.624608</td>\n",
       "      <td>Millennium Park</td>\n",
       "      <td>41.883112</td>\n",
       "      <td>-87.623851</td>\n",
       "    </tr>\n",
       "    <tr>\n",
       "      <th>3</th>\n",
       "      <td>54060b96498ed2702c0632f7</td>\n",
       "      <td>8.3</td>\n",
       "      <td>Coffee Shops</td>\n",
       "      <td>4bf58dd8d48988d1e0931735</td>\n",
       "      <td>Peet's Coffee &amp; Tea</td>\n",
       "      <td>20 North Michigan Ave.,</td>\n",
       "      <td>60602</td>\n",
       "      <td>Chicago</td>\n",
       "      <td>41.882467</td>\n",
       "      <td>-87.624686</td>\n",
       "      <td>Millennium Park</td>\n",
       "      <td>41.883112</td>\n",
       "      <td>-87.623851</td>\n",
       "    </tr>\n",
       "    <tr>\n",
       "      <th>4</th>\n",
       "      <td>4bf98a56508c0f4793663f31</td>\n",
       "      <td>6.7</td>\n",
       "      <td>American Restaurants</td>\n",
       "      <td>4bf58dd8d48988d14e941735</td>\n",
       "      <td>The Plaza at Park Grill</td>\n",
       "      <td>11 N Michigan Ave</td>\n",
       "      <td>60602</td>\n",
       "      <td>Chicago</td>\n",
       "      <td>41.882668</td>\n",
       "      <td>-87.623769</td>\n",
       "      <td>Millennium Park</td>\n",
       "      <td>41.883112</td>\n",
       "      <td>-87.623851</td>\n",
       "    </tr>\n",
       "  </tbody>\n",
       "</table>\n",
       "</div>"
      ],
      "text/plain": [
       "                         id  score              category  \\\n",
       "0  4582cc9ef964a520843f1fe3    6.2  American Restaurants   \n",
       "1  4e73881c922e0a374024c7b8    7.7          Coffee Shops   \n",
       "2  551192b1498e8695352d33e6    8.1  American Restaurants   \n",
       "3  54060b96498ed2702c0632f7    8.3          Coffee Shops   \n",
       "4  4bf98a56508c0f4793663f31    6.7  American Restaurants   \n",
       "\n",
       "                 categoryID                     name                  address  \\\n",
       "0  4bf58dd8d48988d14e941735               Park Grill        11 N Michigan Ave   \n",
       "1  4bf58dd8d48988d1e0931735                Starbucks         8 N Michigan Ave   \n",
       "2  4bf58dd8d48988d14e941735              Remington's        20 N Michigan Ave   \n",
       "3  4bf58dd8d48988d1e0931735      Peet's Coffee & Tea  20 North Michigan Ave.,   \n",
       "4  4bf58dd8d48988d14e941735  The Plaza at Park Grill        11 N Michigan Ave   \n",
       "\n",
       "  postalcode     city   latitude  longitude       venue_name  venue_latitude  \\\n",
       "0      60602  Chicago  41.882732 -87.623847  Millennium Park       41.883112   \n",
       "1      60602  Chicago  41.882478 -87.624701  Millennium Park       41.883112   \n",
       "2      60602  Chicago  41.882628 -87.624608  Millennium Park       41.883112   \n",
       "3      60602  Chicago  41.882467 -87.624686  Millennium Park       41.883112   \n",
       "4      60602  Chicago  41.882668 -87.623769  Millennium Park       41.883112   \n",
       "\n",
       "   venue_longitude  \n",
       "0       -87.623851  \n",
       "1       -87.623851  \n",
       "2       -87.623851  \n",
       "3       -87.623851  \n",
       "4       -87.623851  "
      ]
     },
     "execution_count": 9,
     "metadata": {},
     "output_type": "execute_result"
    }
   ],
   "source": [
    "df_rest.head()"
   ]
  },
  {
   "cell_type": "code",
   "execution_count": 10,
   "metadata": {},
   "outputs": [
    {
     "data": {
      "text/plain": [
       "Text(0.0, 1.0, 'Scatter Plot of Restaurants Latitude and Score')"
      ]
     },
     "execution_count": 10,
     "metadata": {},
     "output_type": "execute_result"
    },
    {
     "data": {
      "image/png": "[encoded data removed]",
      "text/plain": [
       "<Figure size 720x432 with 1 Axes>"
      ]
     },
     "metadata": {},
     "output_type": "display_data"
    }
   ],
   "source": [
    "df_rest.plot.scatter('score', 'latitude', figsize=(10,6))\n",
    "\n",
    "plt.xlabel('Score')\n",
    "plt.ylabel('Latitude')\n",
    "plt.title('Scatter Plot of Restaurants Latitude and Score', loc='left', fontsize=18)"
   ]
  },
  {
   "cell_type": "code",
   "execution_count": 11,
   "metadata": {},
   "outputs": [
    {
     "data": {
      "text/plain": [
       "Text(0.0, 1.0, 'Scatter Plot of Restaurants Longitude and Score')"
      ]
     },
     "execution_count": 11,
     "metadata": {},
     "output_type": "execute_result"
    },
    {
     "data": {
      "image/png": "[encoded data removed]",
      "text/plain": [
       "<Figure size 720x432 with 1 Axes>"
      ]
     },
     "metadata": {},
     "output_type": "display_data"
    }
   ],
   "source": [
    "df_rest.plot.scatter('score', 'longitude', figsize=(10,6))\n",
    "\n",
    "plt.xlabel('Score')\n",
    "plt.ylabel('Longitude')\n",
    "plt.title('Scatter Plot of Restaurants Longitude and Score', loc='left', fontsize=18)"
   ]
  },
  {
   "cell_type": "code",
   "execution_count": null,
   "metadata": {},
   "outputs": [],
   "source": []
  }
 ],
 "metadata": {
  "kernelspec": {
   "display_name": "Python 3",
   "language": "python",
   "name": "python3"
  },
  "language_info": {
   "codemirror_mode": {
    "name": "ipython",
    "version": 3
   },
   "file_extension": ".py",
   "mimetype": "text/x-python",
   "name": "python",
   "nbconvert_exporter": "python",
   "pygments_lexer": "ipython3",
   "version": "3.8.0"
  }
 },
 "nbformat": 4,
 "nbformat_minor": 4
}
